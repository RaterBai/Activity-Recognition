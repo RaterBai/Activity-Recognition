{
 "cells": [
  {
   "cell_type": "code",
   "execution_count": 1,
   "metadata": {},
   "outputs": [],
   "source": [
    "import pandas as pd\n",
    "import numpy as np\n",
    "import matplotlib.pyplot as plt\n",
    "\n",
    "from sklearn.model_selection import GridSearchCV, train_test_split\n",
    "from sklearn.ensemble import RandomForestClassifier"
   ]
  },
  {
   "cell_type": "code",
   "execution_count": 4,
   "metadata": {},
   "outputs": [],
   "source": [
    "data_created = pd.read_csv(\"./../result/data_created.csv\")"
   ]
  },
  {
   "cell_type": "code",
   "execution_count": 5,
   "metadata": {},
   "outputs": [
    {
     "data": {
      "text/html": [
       "<div>\n",
       "<style scoped>\n",
       "    .dataframe tbody tr th:only-of-type {\n",
       "        vertical-align: middle;\n",
       "    }\n",
       "\n",
       "    .dataframe tbody tr th {\n",
       "        vertical-align: top;\n",
       "    }\n",
       "\n",
       "    .dataframe thead th {\n",
       "        text-align: right;\n",
       "    }\n",
       "</style>\n",
       "<table border=\"1\" class=\"dataframe\">\n",
       "  <thead>\n",
       "    <tr style=\"text-align: right;\">\n",
       "      <th></th>\n",
       "      <th>PID</th>\n",
       "      <th>ActivityNumber</th>\n",
       "      <th>group</th>\n",
       "      <th>mvm</th>\n",
       "      <th>sdvm</th>\n",
       "      <th>df</th>\n",
       "      <th>p625</th>\n",
       "      <th>fpdf</th>\n",
       "      <th>mangle</th>\n",
       "      <th>sdangle</th>\n",
       "    </tr>\n",
       "  </thead>\n",
       "  <tbody>\n",
       "    <tr>\n",
       "      <th>0</th>\n",
       "      <td>3</td>\n",
       "      <td>1</td>\n",
       "      <td>0</td>\n",
       "      <td>10.212443</td>\n",
       "      <td>0.177938</td>\n",
       "      <td>6.2</td>\n",
       "      <td>0.026051</td>\n",
       "      <td>0.019942</td>\n",
       "      <td>-12.444212</td>\n",
       "      <td>0.851601</td>\n",
       "    </tr>\n",
       "    <tr>\n",
       "      <th>1</th>\n",
       "      <td>3</td>\n",
       "      <td>1</td>\n",
       "      <td>0</td>\n",
       "      <td>10.218438</td>\n",
       "      <td>0.378222</td>\n",
       "      <td>1.8</td>\n",
       "      <td>0.026051</td>\n",
       "      <td>0.020963</td>\n",
       "      <td>-12.031269</td>\n",
       "      <td>2.009492</td>\n",
       "    </tr>\n",
       "    <tr>\n",
       "      <th>2</th>\n",
       "      <td>3</td>\n",
       "      <td>1</td>\n",
       "      <td>0</td>\n",
       "      <td>10.212566</td>\n",
       "      <td>0.174238</td>\n",
       "      <td>4.3</td>\n",
       "      <td>0.026051</td>\n",
       "      <td>0.025539</td>\n",
       "      <td>-12.696323</td>\n",
       "      <td>0.595054</td>\n",
       "    </tr>\n",
       "    <tr>\n",
       "      <th>3</th>\n",
       "      <td>3</td>\n",
       "      <td>2</td>\n",
       "      <td>0</td>\n",
       "      <td>10.143824</td>\n",
       "      <td>0.188727</td>\n",
       "      <td>3.0</td>\n",
       "      <td>0.026051</td>\n",
       "      <td>0.018592</td>\n",
       "      <td>-4.512657</td>\n",
       "      <td>2.094529</td>\n",
       "    </tr>\n",
       "    <tr>\n",
       "      <th>4</th>\n",
       "      <td>3</td>\n",
       "      <td>2</td>\n",
       "      <td>0</td>\n",
       "      <td>10.146730</td>\n",
       "      <td>0.098754</td>\n",
       "      <td>1.8</td>\n",
       "      <td>0.026051</td>\n",
       "      <td>0.021329</td>\n",
       "      <td>-3.473577</td>\n",
       "      <td>0.363055</td>\n",
       "    </tr>\n",
       "  </tbody>\n",
       "</table>\n",
       "</div>"
      ],
      "text/plain": [
       "   PID  ActivityNumber  group        mvm      sdvm   df      p625      fpdf  \\\n",
       "0    3               1      0  10.212443  0.177938  6.2  0.026051  0.019942   \n",
       "1    3               1      0  10.218438  0.378222  1.8  0.026051  0.020963   \n",
       "2    3               1      0  10.212566  0.174238  4.3  0.026051  0.025539   \n",
       "3    3               2      0  10.143824  0.188727  3.0  0.026051  0.018592   \n",
       "4    3               2      0  10.146730  0.098754  1.8  0.026051  0.021329   \n",
       "\n",
       "      mangle   sdangle  \n",
       "0 -12.444212  0.851601  \n",
       "1 -12.031269  2.009492  \n",
       "2 -12.696323  0.595054  \n",
       "3  -4.512657  2.094529  \n",
       "4  -3.473577  0.363055  "
      ]
     },
     "execution_count": 5,
     "metadata": {},
     "output_type": "execute_result"
    }
   ],
   "source": [
    "data_created.head()"
   ]
  },
  {
   "cell_type": "code",
   "execution_count": 7,
   "metadata": {},
   "outputs": [],
   "source": [
    "X = data_created.loc[:, [\"mvm\", \"sdvm\", \"df\", \"p625\", \"fpdf\", \"mangle\", \"sdangle\"]]\n",
    "Y = data_created.loc[:, \"group\"]"
   ]
  },
  {
   "cell_type": "code",
   "execution_count": null,
   "metadata": {},
   "outputs": [],
   "source": [
    "X_train, X_test, y_train, y_test = train_test_split(X, Y, test_size = 0.4, random_state = 123, shuffle=True)\n",
    "\n",
    "# RF + GridSearch\n",
    "params = {\n",
    "    'n_estimators' : [100, 200, 300, 400],\n",
    "    'max_depth' : [10, 20, 30, 40, 50],\n",
    "    'min_samples_split' : [1, 2, 3, 4],\n",
    "    'min_samples_leaf' : [1, 2, 3, 4, 5]\n",
    "}\n",
    "rf = RandomForestClassifier()\n",
    "RF_gs = GridSearchCV(estimator=rf, param_grid=params, scoring='roc_auc', cv = 5,verbose=10)\n",
    "RF_gs.fit(X_train, y_train)\n",
    "estimator = RF_gs.best_estimator_"
   ]
  }
 ],
 "metadata": {
  "kernelspec": {
   "display_name": "Python 3",
   "language": "python",
   "name": "python3"
  },
  "language_info": {
   "codemirror_mode": {
    "name": "ipython",
    "version": 3
   },
   "file_extension": ".py",
   "mimetype": "text/x-python",
   "name": "python",
   "nbconvert_exporter": "python",
   "pygments_lexer": "ipython3",
   "version": "3.7.7"
  }
 },
 "nbformat": 4,
 "nbformat_minor": 4
}
