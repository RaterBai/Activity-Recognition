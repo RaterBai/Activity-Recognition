{
 "cells": [
  {
   "cell_type": "code",
   "execution_count": 1,
   "metadata": {},
   "outputs": [],
   "source": [
    "import pandas as pd\n",
    "import numpy as np\n",
    "import matplotlib.pyplot as plt\n",
    "\n",
    "from sklearn.model_selection import GridSearchCV, train_test_split, cross_val_score, KFold, cross_validate\n",
    "from sklearn.preprocessing import StandardScaler\n",
    "from sklearn.svm import SVC\n",
    "from sklearn.linear_model import LogisticRegression\n",
    "from sklearn.tree import DecisionTreeClassifier\n",
    "from sklearn.decomposition import PCA\n",
    "from sklearn.pipeline import Pipeline\n",
    "from sklearn.metrics import confusion_matrix, accuracy_score, f1_score, roc_curve, auc, plot_roc_curve, precision_score, recall_score\n",
    "from sklearn.ensemble import RandomForestClassifier\n",
    "from sklearn.model_selection import GroupKFold"
   ]
  },
  {
   "cell_type": "code",
   "execution_count": 2,
   "metadata": {},
   "outputs": [],
   "source": [
    "inner_fold = 4\n",
    "outer_fold = 5"
   ]
  },
  {
   "cell_type": "code",
   "execution_count": 3,
   "metadata": {},
   "outputs": [],
   "source": [
    "data = pd.read_csv(\"./../result/data_created.csv\")"
   ]
  },
  {
   "cell_type": "code",
   "execution_count": 4,
   "metadata": {},
   "outputs": [],
   "source": [
    "groups = data.PID"
   ]
  },
  {
   "cell_type": "code",
   "execution_count": 5,
   "metadata": {},
   "outputs": [],
   "source": [
    "X = data.loc[:, [\"mvm\", \"sdvm\", \"df\", \"p625\", \"fpdf\", \"mangle\", \"sdangle\"]]\n",
    "y = data[\"group\"]"
   ]
  },
  {
   "cell_type": "markdown",
   "metadata": {},
   "source": [
    "## Use nested cross-validation \n",
    "## Outer CV train-validation on 8 participant, test on the other two\n",
    "## Inner CV 8 participant in total, train on 6, validate on 2"
   ]
  },
  {
   "cell_type": "code",
   "execution_count": 11,
   "metadata": {},
   "outputs": [
    {
     "name": "stdout",
     "output_type": "stream",
     "text": [
      "Fitting 4 folds for each of 15 candidates, totalling 60 fits\n"
     ]
    },
    {
     "name": "stderr",
     "output_type": "stream",
     "text": [
      "[Parallel(n_jobs=-1)]: Using backend LokyBackend with 4 concurrent workers.\n",
      "[Parallel(n_jobs=-1)]: Done  60 out of  60 | elapsed:    0.7s finished\n",
      "[Parallel(n_jobs=-1)]: Using backend LokyBackend with 4 concurrent workers.\n"
     ]
    },
    {
     "name": "stdout",
     "output_type": "stream",
     "text": [
      "Fitting 4 folds for each of 15 candidates, totalling 60 fits\n"
     ]
    },
    {
     "name": "stderr",
     "output_type": "stream",
     "text": [
      "[Parallel(n_jobs=-1)]: Done  60 out of  60 | elapsed:    1.4s finished\n",
      "[Parallel(n_jobs=-1)]: Using backend LokyBackend with 4 concurrent workers.\n"
     ]
    },
    {
     "name": "stdout",
     "output_type": "stream",
     "text": [
      "Fitting 4 folds for each of 15 candidates, totalling 60 fits\n"
     ]
    },
    {
     "name": "stderr",
     "output_type": "stream",
     "text": [
      "[Parallel(n_jobs=-1)]: Done  60 out of  60 | elapsed:    0.8s finished\n",
      "[Parallel(n_jobs=-1)]: Using backend LokyBackend with 4 concurrent workers.\n"
     ]
    },
    {
     "name": "stdout",
     "output_type": "stream",
     "text": [
      "Fitting 4 folds for each of 15 candidates, totalling 60 fits\n"
     ]
    },
    {
     "name": "stderr",
     "output_type": "stream",
     "text": [
      "[Parallel(n_jobs=-1)]: Done  60 out of  60 | elapsed:    0.9s finished\n"
     ]
    },
    {
     "name": "stdout",
     "output_type": "stream",
     "text": [
      "Fitting 4 folds for each of 15 candidates, totalling 60 fits\n"
     ]
    },
    {
     "name": "stderr",
     "output_type": "stream",
     "text": [
      "[Parallel(n_jobs=-1)]: Using backend LokyBackend with 4 concurrent workers.\n"
     ]
    },
    {
     "name": "stdout",
     "output_type": "stream",
     "text": [
      "Average accuracy on test set:  0.992\n",
      "Average F1-Score on test set:  0.9879183673469388\n",
      "Average precision on test set:  0.9766153846153847\n",
      "Average recall on test set:  1.0\n",
      "Average auc on test set:  0.9941176470588236\n"
     ]
    },
    {
     "name": "stderr",
     "output_type": "stream",
     "text": [
      "[Parallel(n_jobs=-1)]: Done  60 out of  60 | elapsed:    0.7s finished\n"
     ]
    }
   ],
   "source": [
    "# Logistic Regression\n",
    "# configure the cross-validation procedure\n",
    "inner_cv = GroupKFold(n_splits=inner_fold)\n",
    "outer_cv = GroupKFold(n_splits=outer_fold)\n",
    "\n",
    "model = Pipeline([('normalizer', StandardScaler()),  # normalize data\n",
    "                  ('clf', LogisticRegression(random_state=1))  # fit Logistic regression model\n",
    "])\n",
    "\n",
    "\n",
    "params = {\n",
    "    'clf__solver' : ['newton-cg', 'lbfgs', 'liblinear'],\n",
    "    'clf__penalty' : [\"l2\"],\n",
    "    'clf__C' : [100, 10, 1.0, 0.1, 0.01]\n",
    "}\n",
    "\n",
    "acc = []\n",
    "f1 = []\n",
    "precision = []\n",
    "recall = []\n",
    "auc_score = []\n",
    "\n",
    "\n",
    "for train_index, test_index in outer_cv.split(X, y, groups=groups):\n",
    "    x_train, x_test = X.iloc[train_index], X.iloc[test_index]\n",
    "    y_train, y_test = y[train_index], y[test_index]\n",
    "\n",
    "    grid = GridSearchCV(estimator=model,\n",
    "                        param_grid=params,\n",
    "                        cv=inner_cv,\n",
    "                        scoring=\"accuracy\",\n",
    "                        refit=True,\n",
    "                        verbose=1,\n",
    "                        n_jobs=-1)\n",
    "    \n",
    "    grid.fit(x_train, y_train, groups=groups[train_index])\n",
    "    prediction = grid.predict(x_test)\n",
    "    \n",
    "    _acc = accuracy_score(y_test, prediction)\n",
    "    _f1 = f1_score(y_test, prediction)\n",
    "    _precision = precision_score(y_test, prediction)\n",
    "    _recall = recall_score(y_test, prediction)\n",
    "    _fpr, _tpr, _thresholds = roc_curve(y_test, prediction, pos_label=1)\n",
    "    _auc = auc(_fpr, _tpr)\n",
    "    \n",
    "    acc.append(_acc)\n",
    "    f1.append(_f1)\n",
    "    precision.append(_precision)\n",
    "    recall.append(_recall)\n",
    "    auc_score.append(_auc)\n",
    "\n",
    "print(\"Average accuracy on test set: \", np.mean(acc))\n",
    "print(\"Average F1-Score on test set: \", np.mean(f1))\n",
    "print(\"Average precision on test set: \", np.mean(precision))\n",
    "print(\"Average recall on test set: \", np.mean(recall))\n",
    "print(\"Average auc on test set: \", np.mean(auc_score))"
   ]
  },
  {
   "cell_type": "code",
   "execution_count": 8,
   "metadata": {},
   "outputs": [
    {
     "name": "stdout",
     "output_type": "stream",
     "text": [
      "Fitting 4 folds for each of 36 candidates, totalling 144 fits\n"
     ]
    },
    {
     "name": "stderr",
     "output_type": "stream",
     "text": [
      "[Parallel(n_jobs=-1)]: Using backend LokyBackend with 4 concurrent workers.\n",
      "[Parallel(n_jobs=-1)]: Done  42 tasks      | elapsed:    7.7s\n",
      "[Parallel(n_jobs=-1)]: Done 144 out of 144 | elapsed:   31.1s finished\n"
     ]
    },
    {
     "name": "stdout",
     "output_type": "stream",
     "text": [
      "Fitting 4 folds for each of 36 candidates, totalling 144 fits\n"
     ]
    },
    {
     "name": "stderr",
     "output_type": "stream",
     "text": [
      "[Parallel(n_jobs=-1)]: Using backend LokyBackend with 4 concurrent workers.\n",
      "[Parallel(n_jobs=-1)]: Done  50 tasks      | elapsed:   10.0s\n",
      "[Parallel(n_jobs=-1)]: Done 144 out of 144 | elapsed:   30.6s finished\n"
     ]
    },
    {
     "name": "stdout",
     "output_type": "stream",
     "text": [
      "Fitting 4 folds for each of 36 candidates, totalling 144 fits\n"
     ]
    },
    {
     "name": "stderr",
     "output_type": "stream",
     "text": [
      "[Parallel(n_jobs=-1)]: Using backend LokyBackend with 4 concurrent workers.\n",
      "[Parallel(n_jobs=-1)]: Done  42 tasks      | elapsed:    9.3s\n",
      "[Parallel(n_jobs=-1)]: Done 144 out of 144 | elapsed:   34.4s finished\n"
     ]
    },
    {
     "name": "stdout",
     "output_type": "stream",
     "text": [
      "Fitting 4 folds for each of 36 candidates, totalling 144 fits\n"
     ]
    },
    {
     "name": "stderr",
     "output_type": "stream",
     "text": [
      "[Parallel(n_jobs=-1)]: Using backend LokyBackend with 4 concurrent workers.\n",
      "[Parallel(n_jobs=-1)]: Done  42 tasks      | elapsed:   10.3s\n",
      "[Parallel(n_jobs=-1)]: Done 144 out of 144 | elapsed:   36.1s finished\n"
     ]
    },
    {
     "name": "stdout",
     "output_type": "stream",
     "text": [
      "Fitting 4 folds for each of 36 candidates, totalling 144 fits\n"
     ]
    },
    {
     "name": "stderr",
     "output_type": "stream",
     "text": [
      "[Parallel(n_jobs=-1)]: Using backend LokyBackend with 4 concurrent workers.\n",
      "[Parallel(n_jobs=-1)]: Done  42 tasks      | elapsed:    7.2s\n",
      "[Parallel(n_jobs=-1)]: Done 144 out of 144 | elapsed:   32.4s finished\n"
     ]
    },
    {
     "name": "stdout",
     "output_type": "stream",
     "text": [
      "Average accuracy on test set:  0.992\n",
      "Average F1-Score on test set:  0.9874077290490664\n",
      "Average precision on test set:  0.992\n",
      "Average recall on test set:  0.9833333333333334\n",
      "Average auc on test set:  0.9897058823529411\n"
     ]
    }
   ],
   "source": [
    "# nested cross validation for Random Forest model\n",
    "# configure the cross-validation procedure\n",
    "inner_cv = GroupKFold(n_splits=inner_fold)\n",
    "outer_cv = GroupKFold(n_splits=outer_fold)\n",
    "\n",
    "# define the model\n",
    "model = RandomForestClassifier(random_state=1)\n",
    "params = {\n",
    "    'n_estimators' : [50, 100, 150, 200],\n",
    "    'max_features' : [\"auto\", \"sqrt\", \"log2\"],\n",
    "    'min_samples_leaf' : [1, 3, 5]\n",
    "}\n",
    "\n",
    "acc = []\n",
    "f1 = []\n",
    "precision = []\n",
    "recall = []\n",
    "auc_score = []\n",
    "\n",
    "\n",
    "for train_index, test_index in outer_cv.split(X, y, groups=groups):\n",
    "    x_train, x_test = X.iloc[train_index], X.iloc[test_index]\n",
    "    y_train, y_test = y[train_index], y[test_index]\n",
    "\n",
    "    grid = GridSearchCV(estimator=model,\n",
    "                        param_grid=params,\n",
    "                        cv=inner_cv,\n",
    "                        scoring=\"accuracy\",\n",
    "                        refit=True,\n",
    "                        verbose=1,\n",
    "                        n_jobs=-1)\n",
    "    \n",
    "    grid.fit(x_train, y_train, groups=groups[train_index])\n",
    "    prediction = grid.predict(x_test)\n",
    "    \n",
    "    _acc = accuracy_score(y_test, prediction)\n",
    "    _f1 = f1_score(y_test, prediction)\n",
    "    _precision = precision_score(y_test, prediction)\n",
    "    _recall = recall_score(y_test, prediction)\n",
    "    _fpr, _tpr, _thresholds = roc_curve(y_test, prediction, pos_label=1)\n",
    "    _auc = auc(_fpr, _tpr)\n",
    "    \n",
    "    acc.append(_acc)\n",
    "    f1.append(_f1)\n",
    "    precision.append(_precision)\n",
    "    recall.append(_recall)\n",
    "    auc_score.append(_auc)\n",
    "\n",
    "print(\"Average accuracy on test set: \", np.mean(acc))\n",
    "print(\"Average F1-Score on test set: \", np.mean(f1))\n",
    "print(\"Average precision on test set: \", np.mean(precision))\n",
    "print(\"Average recall on test set: \", np.mean(recall))\n",
    "print(\"Average auc on test set: \", np.mean(auc_score))"
   ]
  },
  {
   "cell_type": "code",
   "execution_count": 9,
   "metadata": {},
   "outputs": [
    {
     "name": "stdout",
     "output_type": "stream",
     "text": [
      "Fitting 4 folds for each of 15 candidates, totalling 60 fits\n"
     ]
    },
    {
     "name": "stderr",
     "output_type": "stream",
     "text": [
      "[Parallel(n_jobs=-1)]: Using backend LokyBackend with 4 concurrent workers.\n",
      "[Parallel(n_jobs=-1)]: Done  53 out of  60 | elapsed:    0.5s remaining:    0.1s\n",
      "[Parallel(n_jobs=-1)]: Done  60 out of  60 | elapsed:    0.5s finished\n",
      "[Parallel(n_jobs=-1)]: Using backend LokyBackend with 4 concurrent workers.\n"
     ]
    },
    {
     "name": "stdout",
     "output_type": "stream",
     "text": [
      "Fitting 4 folds for each of 15 candidates, totalling 60 fits\n"
     ]
    },
    {
     "name": "stderr",
     "output_type": "stream",
     "text": [
      "[Parallel(n_jobs=-1)]: Done  60 out of  60 | elapsed:    0.6s finished\n",
      "[Parallel(n_jobs=-1)]: Using backend LokyBackend with 4 concurrent workers.\n"
     ]
    },
    {
     "name": "stdout",
     "output_type": "stream",
     "text": [
      "Fitting 4 folds for each of 15 candidates, totalling 60 fits\n"
     ]
    },
    {
     "name": "stderr",
     "output_type": "stream",
     "text": [
      "[Parallel(n_jobs=-1)]: Done  60 out of  60 | elapsed:    0.4s finished\n",
      "[Parallel(n_jobs=-1)]: Using backend LokyBackend with 4 concurrent workers.\n"
     ]
    },
    {
     "name": "stdout",
     "output_type": "stream",
     "text": [
      "Fitting 4 folds for each of 15 candidates, totalling 60 fits\n"
     ]
    },
    {
     "name": "stderr",
     "output_type": "stream",
     "text": [
      "[Parallel(n_jobs=-1)]: Done  53 out of  60 | elapsed:    0.4s remaining:    0.1s\n",
      "[Parallel(n_jobs=-1)]: Done  60 out of  60 | elapsed:    0.4s finished\n",
      "[Parallel(n_jobs=-1)]: Using backend LokyBackend with 4 concurrent workers.\n"
     ]
    },
    {
     "name": "stdout",
     "output_type": "stream",
     "text": [
      "Fitting 4 folds for each of 15 candidates, totalling 60 fits\n",
      "Average accuracy on test set:  0.9973333333333333\n",
      "Average F1-Score on test set:  0.9959183673469388\n",
      "Average precision on test set:  0.992\n",
      "Average recall on test set:  1.0\n",
      "Average auc on test set:  0.9980392156862745\n"
     ]
    },
    {
     "name": "stderr",
     "output_type": "stream",
     "text": [
      "[Parallel(n_jobs=-1)]: Done  53 out of  60 | elapsed:    0.4s remaining:    0.1s\n",
      "[Parallel(n_jobs=-1)]: Done  60 out of  60 | elapsed:    0.4s finished\n"
     ]
    }
   ],
   "source": [
    "# Support Vector Machine\n",
    "# configure the cross-validation procedure\n",
    "inner_cv = GroupKFold(n_splits=inner_fold)\n",
    "outer_cv = GroupKFold(n_splits=outer_fold)\n",
    "\n",
    "# define the model\n",
    "model = Pipeline([('normalizer', StandardScaler()),  # normalize data\n",
    "                  ('clf', SVC(random_state=1))  # fit Logistic regression model\n",
    "])\n",
    "\n",
    "\n",
    "params = {\n",
    "    'clf__kernel' : ['poly', 'rbf', 'sigmoid'],\n",
    "    'clf__gamma' : [\"scale\"],\n",
    "    'clf__C' : [50, 10, 1.0, 0.1, 0.01]\n",
    "}\n",
    "\n",
    "acc = []\n",
    "f1 = []\n",
    "precision = []\n",
    "recall = []\n",
    "auc_score = []\n",
    "\n",
    "\n",
    "for train_index, test_index in outer_cv.split(X, y, groups=groups):\n",
    "    x_train, x_test = X.iloc[train_index], X.iloc[test_index]\n",
    "    y_train, y_test = y[train_index], y[test_index]\n",
    "\n",
    "    grid = GridSearchCV(estimator=model,\n",
    "                        param_grid=params,\n",
    "                        cv=inner_cv,\n",
    "                        scoring=\"accuracy\",\n",
    "                        refit=True,\n",
    "                        verbose=1,\n",
    "                        n_jobs=-1)\n",
    "    \n",
    "    grid.fit(x_train, y_train, groups=groups[train_index])\n",
    "    prediction = grid.predict(x_test)\n",
    "    \n",
    "    _acc = accuracy_score(y_test, prediction)\n",
    "    _f1 = f1_score(y_test, prediction)\n",
    "    _precision = precision_score(y_test, prediction)\n",
    "    _recall = recall_score(y_test, prediction)\n",
    "    _fpr, _tpr, _thresholds = roc_curve(y_test, prediction, pos_label=1)\n",
    "    _auc = auc(_fpr, _tpr)\n",
    "    \n",
    "    acc.append(_acc)\n",
    "    f1.append(_f1)\n",
    "    precision.append(_precision)\n",
    "    recall.append(_recall)\n",
    "    auc_score.append(_auc)\n",
    "\n",
    "print(\"Average accuracy on test set: \", np.mean(acc))\n",
    "print(\"Average F1-Score on test set: \", np.mean(f1))\n",
    "print(\"Average precision on test set: \", np.mean(precision))\n",
    "print(\"Average recall on test set: \", np.mean(recall))\n",
    "print(\"Average auc on test set: \", np.mean(auc_score))"
   ]
  },
  {
   "cell_type": "code",
   "execution_count": 10,
   "metadata": {},
   "outputs": [
    {
     "name": "stdout",
     "output_type": "stream",
     "text": [
      "Fitting 4 folds for each of 24 candidates, totalling 96 fits\n"
     ]
    },
    {
     "name": "stderr",
     "output_type": "stream",
     "text": [
      "[Parallel(n_jobs=-1)]: Using backend LokyBackend with 4 concurrent workers.\n",
      "[Parallel(n_jobs=-1)]: Done  96 out of  96 | elapsed:    0.5s finished\n",
      "[Parallel(n_jobs=-1)]: Using backend LokyBackend with 4 concurrent workers.\n"
     ]
    },
    {
     "name": "stdout",
     "output_type": "stream",
     "text": [
      "Fitting 4 folds for each of 24 candidates, totalling 96 fits\n"
     ]
    },
    {
     "name": "stderr",
     "output_type": "stream",
     "text": [
      "[Parallel(n_jobs=-1)]: Done  96 out of  96 | elapsed:    0.4s finished\n",
      "[Parallel(n_jobs=-1)]: Using backend LokyBackend with 4 concurrent workers.\n"
     ]
    },
    {
     "name": "stdout",
     "output_type": "stream",
     "text": [
      "Fitting 4 folds for each of 24 candidates, totalling 96 fits\n"
     ]
    },
    {
     "name": "stderr",
     "output_type": "stream",
     "text": [
      "[Parallel(n_jobs=-1)]: Done  96 out of  96 | elapsed:    0.4s finished\n",
      "[Parallel(n_jobs=-1)]: Using backend LokyBackend with 4 concurrent workers.\n"
     ]
    },
    {
     "name": "stdout",
     "output_type": "stream",
     "text": [
      "Fitting 4 folds for each of 24 candidates, totalling 96 fits\n"
     ]
    },
    {
     "name": "stderr",
     "output_type": "stream",
     "text": [
      "[Parallel(n_jobs=-1)]: Done  96 out of  96 | elapsed:    0.5s finished\n",
      "[Parallel(n_jobs=-1)]: Using backend LokyBackend with 4 concurrent workers.\n"
     ]
    },
    {
     "name": "stdout",
     "output_type": "stream",
     "text": [
      "Fitting 4 folds for each of 24 candidates, totalling 96 fits\n",
      "Average accuracy on test set:  0.9933333333333334\n",
      "Average F1-Score on test set:  0.9894428816855141\n",
      "Average precision on test set:  0.9920000000000002\n",
      "Average recall on test set:  0.9875\n",
      "Average auc on test set:  0.9917892156862745\n"
     ]
    },
    {
     "name": "stderr",
     "output_type": "stream",
     "text": [
      "[Parallel(n_jobs=-1)]: Done  96 out of  96 | elapsed:    0.6s finished\n"
     ]
    }
   ],
   "source": [
    "# Decision Tree\n",
    "# configure the cross-validation procedure\n",
    "inner_cv = GroupKFold(n_splits=inner_fold)\n",
    "outer_cv = GroupKFold(n_splits=outer_fold)\n",
    "\n",
    "# define the model\n",
    "model = DecisionTreeClassifier(random_state=1)\n",
    "\n",
    "params = {\n",
    "    'criterion' : ['gini', 'entropy'],\n",
    "    'max_depth' : [2,4,6,8,10,12],\n",
    "    'min_samples_leaf' : [6, 8]\n",
    "}\n",
    "\n",
    "for train_index, test_index in outer_cv.split(X, y, groups=groups):\n",
    "    x_train, x_test = X.iloc[train_index], X.iloc[test_index]\n",
    "    y_train, y_test = y[train_index], y[test_index]\n",
    "\n",
    "    grid = GridSearchCV(estimator=model,\n",
    "                        param_grid=params,\n",
    "                        cv=inner_cv,\n",
    "                        scoring=\"accuracy\",\n",
    "                        refit=True,\n",
    "                        verbose=1,\n",
    "                        n_jobs=-1)\n",
    "    \n",
    "    grid.fit(x_train, y_train, groups=groups[train_index])\n",
    "    prediction = grid.predict(x_test)\n",
    "    \n",
    "    _acc = accuracy_score(y_test, prediction)\n",
    "    _f1 = f1_score(y_test, prediction)\n",
    "    _precision = precision_score(y_test, prediction)\n",
    "    _recall = recall_score(y_test, prediction)\n",
    "    _fpr, _tpr, _thresholds = roc_curve(y_test, prediction, pos_label=1)\n",
    "    _auc = auc(_fpr, _tpr)\n",
    "    \n",
    "    acc.append(_acc)\n",
    "    f1.append(_f1)\n",
    "    precision.append(_precision)\n",
    "    recall.append(_recall)\n",
    "    auc_score.append(_auc)\n",
    "\n",
    "print(\"Average accuracy on test set: \", np.mean(acc))\n",
    "print(\"Average F1-Score on test set: \", np.mean(f1))\n",
    "print(\"Average precision on test set: \", np.mean(precision))\n",
    "print(\"Average recall on test set: \", np.mean(recall))\n",
    "print(\"Average auc on test set: \", np.mean(auc_score))"
   ]
  },
  {
   "cell_type": "code",
   "execution_count": null,
   "metadata": {},
   "outputs": [],
   "source": []
  }
 ],
 "metadata": {
  "kernelspec": {
   "display_name": "Python 3",
   "language": "python",
   "name": "python3"
  },
  "language_info": {
   "codemirror_mode": {
    "name": "ipython",
    "version": 3
   },
   "file_extension": ".py",
   "mimetype": "text/x-python",
   "name": "python",
   "nbconvert_exporter": "python",
   "pygments_lexer": "ipython3",
   "version": "3.7.7"
  }
 },
 "nbformat": 4,
 "nbformat_minor": 4
}
