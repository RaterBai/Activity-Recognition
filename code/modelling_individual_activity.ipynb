{
 "cells": [
  {
   "cell_type": "code",
   "execution_count": 1,
   "metadata": {},
   "outputs": [],
   "source": [
    "import pandas as pd\n",
    "import numpy as np\n",
    "import matplotlib.pyplot as plt\n",
    "\n",
    "from sklearn.model_selection import GridSearchCV, train_test_split, cross_val_score, KFold, cross_validate\n",
    "from sklearn.preprocessing import StandardScaler\n",
    "from sklearn.svm import SVC\n",
    "from sklearn.linear_model import LogisticRegression\n",
    "from sklearn.tree import DecisionTreeClassifier\n",
    "from sklearn.decomposition import PCA\n",
    "from sklearn.pipeline import Pipeline\n",
    "from sklearn.metrics import confusion_matrix, accuracy_score, f1_score, roc_curve, auc, plot_roc_curve\n",
    "from sklearn.ensemble import RandomForestClassifier"
   ]
  },
  {
   "cell_type": "code",
   "execution_count": 2,
   "metadata": {},
   "outputs": [],
   "source": [
    "data_created = pd.read_csv(\"./../result/data_created.csv\")"
   ]
  },
  {
   "cell_type": "code",
   "execution_count": 3,
   "metadata": {},
   "outputs": [],
   "source": [
    "X = data_created.loc[:, [\"mvm\", \"sdvm\", \"df\", \"p625\", \"fpdf\", \"mangle\", \"sdangle\"]]\n",
    "Y = data_created.loc[:, \"ActivityNumber\"]\n",
    "X_train, X_test, y_train, y_test = train_test_split(X, Y, test_size = 0.4, random_state = 123, shuffle=True, stratify=Y)"
   ]
  },
  {
   "cell_type": "code",
   "execution_count": 4,
   "metadata": {},
   "outputs": [],
   "source": [
    "clfs = []\n",
    "lr = LogisticRegression()\n",
    "svm = SVC()\n",
    "rf = RandomForestClassifier()\n",
    "dt = DecisionTreeClassifier()\n",
    "\n",
    "clfs.append(lr)\n",
    "clfs.append(svm)\n",
    "clfs.append(rf)\n",
    "clfs.append(dt)"
   ]
  },
  {
   "cell_type": "code",
   "execution_count": 5,
   "metadata": {},
   "outputs": [],
   "source": [
    "pipeline = Pipeline([\n",
    "    ('normalizer', StandardScaler()),  # normalize data\n",
    "    ('clf', SVC())  # fit Logistic regression model\n",
    "])"
   ]
  },
  {
   "cell_type": "code",
   "execution_count": 6,
   "metadata": {},
   "outputs": [
    {
     "name": "stdout",
     "output_type": "stream",
     "text": [
      "-----------------------------------------\n",
      "LogisticRegression(C=1.0, class_weight=None, dual=False, fit_intercept=True,\n",
      "                   intercept_scaling=1, l1_ratio=None, max_iter=100,\n",
      "                   multi_class='auto', n_jobs=None, penalty='l2',\n",
      "                   random_state=None, solver='lbfgs', tol=0.0001, verbose=0,\n",
      "                   warm_start=False)\n",
      "Accuracy of training set 0.814978\n",
      "Accuracy of test set 0.717105\n",
      "[[ 9  3  5  0  0  0  0  0  0  0]\n",
      " [ 4  7  1  0  0  0  0  0  0  0]\n",
      " [ 1  0 19  4  0  0  0  0  0  0]\n",
      " [ 0  0  3 26  0  0  0  0  0  0]\n",
      " [ 0  0  0  0 10  0  0  0  0  0]\n",
      " [ 0  0  0  0  0 12  0  0  0  0]\n",
      " [ 0  0  0  0  0  0  9  0  0  3]\n",
      " [ 0  0  0  3  0  0  0  8  1  0]\n",
      " [ 0  0  0  0  0  0  3  1  2  6]\n",
      " [ 0  0  0  0  0  0  4  0  1  7]]\n",
      "-----------------------------------------\n",
      "SVC(C=1.0, break_ties=False, cache_size=200, class_weight=None, coef0=0.0,\n",
      "    decision_function_shape='ovr', degree=3, gamma='scale', kernel='rbf',\n",
      "    max_iter=-1, probability=False, random_state=None, shrinking=True,\n",
      "    tol=0.001, verbose=False)\n",
      "Accuracy of training set 0.872247\n",
      "Accuracy of test set 0.809211\n",
      "[[11  3  3  0  0  0  0  0  0  0]\n",
      " [ 3  9  0  0  0  0  0  0  0  0]\n",
      " [ 0  0 19  5  0  0  0  0  0  0]\n",
      " [ 0  0  1 28  0  0  0  0  0  0]\n",
      " [ 0  0  0  0 10  0  0  0  0  0]\n",
      " [ 0  0  0  0  0 12  0  0  0  0]\n",
      " [ 0  0  0  0  0  0  9  0  1  2]\n",
      " [ 0  0  0  0  0  0  0 10  1  1]\n",
      " [ 0  0  0  0  0  0  2  0  7  3]\n",
      " [ 0  0  0  0  0  0  4  0  0  8]]\n",
      "-----------------------------------------\n",
      "RandomForestClassifier(bootstrap=True, ccp_alpha=0.0, class_weight=None,\n",
      "                       criterion='gini', max_depth=None, max_features='auto',\n",
      "                       max_leaf_nodes=None, max_samples=None,\n",
      "                       min_impurity_decrease=0.0, min_impurity_split=None,\n",
      "                       min_samples_leaf=1, min_samples_split=2,\n",
      "                       min_weight_fraction_leaf=0.0, n_estimators=100,\n",
      "                       n_jobs=None, oob_score=False, random_state=None,\n",
      "                       verbose=0, warm_start=False)\n",
      "Accuracy of training set 1.000000\n",
      "Accuracy of test set 0.855263\n",
      "[[16  0  0  0  0  0  0  1  0  0]\n",
      " [ 0 11  0  1  0  0  0  0  0  0]\n",
      " [ 2  0 18  4  0  0  0  0  0  0]\n",
      " [ 0  0  2 27  0  0  0  0  0  0]\n",
      " [ 0  0  0  0 10  0  0  0  0  0]\n",
      " [ 0  0  0  0  0 12  0  0  0  0]\n",
      " [ 0  0  0  0  0  0  9  0  2  1]\n",
      " [ 1  0  0  0  0  0  0 11  0  0]\n",
      " [ 0  0  0  0  0  0  2  1  7  2]\n",
      " [ 0  0  0  0  0  0  2  0  1  9]]\n",
      "-----------------------------------------\n",
      "DecisionTreeClassifier(ccp_alpha=0.0, class_weight=None, criterion='gini',\n",
      "                       max_depth=None, max_features=None, max_leaf_nodes=None,\n",
      "                       min_impurity_decrease=0.0, min_impurity_split=None,\n",
      "                       min_samples_leaf=1, min_samples_split=2,\n",
      "                       min_weight_fraction_leaf=0.0, presort='deprecated',\n",
      "                       random_state=None, splitter='best')\n",
      "Accuracy of training set 1.000000\n",
      "Accuracy of test set 0.756579\n",
      "[[13  1  1  2  0  0  0  0  0  0]\n",
      " [ 0 11  0  1  0  0  0  0  0  0]\n",
      " [ 4  0 16  4  0  0  0  0  0  0]\n",
      " [ 0  0  1 28  0  0  0  0  0  0]\n",
      " [ 0  0  0  0  9  1  0  0  0  0]\n",
      " [ 0  0  0  0  0 12  0  0  0  0]\n",
      " [ 0  0  0  0  0  0  8  0  3  1]\n",
      " [ 3  0  0  0  0  0  0  8  0  1]\n",
      " [ 0  0  0  0  0  0  4  0  6  2]\n",
      " [ 0  0  0  0  0  0  5  0  3  4]]\n"
     ]
    }
   ],
   "source": [
    "for clf in clfs:\n",
    "    pipeline.set_params(clf =  clf)\n",
    "    pipeline.fit(X_train, y_train)\n",
    "    y_pred = pipeline.predict(X_test)\n",
    "    acc_train = accuracy_score(pipeline.predict(X_train), y_train)\n",
    "    acc_test = accuracy_score(y_test, y_pred)\n",
    "    \n",
    "    print(\"-----------------------------------------\")\n",
    "    print(str(clf))\n",
    "    print(\"Accuracy of training set %f\"%acc_train)\n",
    "    print(\"Accuracy of test set %f\"%acc_test)\n",
    "    print(confusion_matrix(y_test, y_pred))\n",
    "    #print(\"F1-score %f\"%f1)\n",
    "    #clf_disp = plot_roc_curve(pipeline, X_test, y_test)\n",
    "    #plt.plot([0, 1], [0, 1], color='orange', lw=2, linestyle='--')\n",
    "    #plt.show()"
   ]
  },
  {
   "cell_type": "code",
   "execution_count": 7,
   "metadata": {},
   "outputs": [],
   "source": [
    "# "
   ]
  },
  {
   "cell_type": "code",
   "execution_count": 8,
   "metadata": {},
   "outputs": [],
   "source": [
    "# PCA\n",
    "X_r = PCA(n_components=2).fit_transform(X)\n",
    "#X_train, X_test, y_train, y_test = train_test_split(X_r, Y, test_size = 0.4, random_state = 123, shuffle=True)"
   ]
  },
  {
   "cell_type": "code",
   "execution_count": 9,
   "metadata": {},
   "outputs": [
    {
     "data": {
      "text/plain": [
       "array([ 1,  1,  1,  2,  2,  2,  3,  3,  3,  4,  4,  4,  4,  5,  5,  5,  5,\n",
       "        6,  6,  6,  7,  7,  7,  8,  8,  8,  9,  9,  9, 10, 10, 10,  1,  1,\n",
       "        1,  2,  2,  2,  3,  3,  3,  4,  4,  4,  5,  5,  5,  5,  6,  6,  6,\n",
       "        7,  7,  7,  8,  8,  8,  9,  9,  9, 10, 10, 10,  1,  1,  1,  1,  1,\n",
       "        2,  2,  2,  3,  3,  3,  3,  3,  3,  3,  3,  4,  4,  4,  4,  4,  4,\n",
       "        4,  4,  4,  4,  4,  5,  6,  6,  6,  7,  7,  7,  8,  8,  8,  9,  9,\n",
       "        9, 10, 10, 10,  1,  1,  1,  2,  2,  2,  2,  3,  3,  3,  4,  4,  4,\n",
       "        4,  5,  5,  5,  6,  6,  6,  6,  7,  7,  7,  8,  8,  8,  9,  9,  9,\n",
       "       10, 10, 10,  1,  1,  1,  1,  1,  2,  2,  2,  3,  3,  3,  3,  3,  3,\n",
       "        3,  3,  3,  4,  4,  4,  4,  4,  4,  4,  4,  4,  5,  6,  6,  6,  7,\n",
       "        7,  7,  8,  8,  8,  9,  9,  9, 10, 10, 10,  1,  1,  1,  2,  2,  2,\n",
       "        3,  3,  3,  3,  4,  4,  4,  4,  5,  5,  5,  5,  6,  6,  6,  7,  7,\n",
       "        7,  8,  8,  8,  9,  9,  9, 10, 10, 10,  1,  1,  1,  1,  1,  2,  2,\n",
       "        2,  3,  3,  3,  3,  3,  3,  3,  4,  4,  4,  4,  4,  4,  4,  4,  4,\n",
       "        4,  5,  5,  6,  6,  6,  7,  7,  7,  8,  8,  8,  9,  9,  9, 10, 10,\n",
       "       10,  1,  1,  1,  2,  2,  2,  3,  3,  3,  4,  4,  4,  4,  5,  5,  5,\n",
       "        6,  6,  6,  7,  7,  7,  8,  8,  8,  9,  9,  9, 10, 10, 10,  1,  1,\n",
       "        1,  1,  1,  2,  2,  2,  3,  3,  3,  3,  3,  3,  3,  3,  3,  3,  4,\n",
       "        4,  4,  4,  4,  4,  4,  4,  4,  4,  5,  6,  6,  6,  7,  7,  7,  8,\n",
       "        8,  8,  9,  9,  9, 10, 10, 10,  1,  1,  1,  1,  1,  1,  1,  2,  2,\n",
       "        2,  3,  3,  3,  3,  3,  3,  3,  3,  3,  4,  4,  4,  4,  4,  4,  4,\n",
       "        4,  4,  4,  4,  4,  5,  5,  6,  6,  6,  7,  7,  7,  8,  8,  8,  9,\n",
       "        9,  9, 10, 10, 10])"
      ]
     },
     "execution_count": 9,
     "metadata": {},
     "output_type": "execute_result"
    }
   ],
   "source": [
    "np.array(Y)"
   ]
  },
  {
   "cell_type": "code",
   "execution_count": 10,
   "metadata": {},
   "outputs": [
    {
     "data": {
      "text/plain": [
       "<matplotlib.legend.Legend at 0x7fa5ce59c650>"
      ]
     },
     "execution_count": 10,
     "metadata": {},
     "output_type": "execute_result"
    },
    {
     "data": {
      "image/png": "[encoded data removed]",
      "text/plain": [
       "<Figure size 432x288 with 1 Axes>"
      ]
     },
     "metadata": {
      "needs_background": "light"
     },
     "output_type": "display_data"
    }
   ],
   "source": [
    "colors = ['navy', 'turquoise', 'black', 'yellow', 'orange', 'red', 'green', 'purple', 'pink']\n",
    "#colors_test = ['yellow', 'red']\n",
    "lw = 2\n",
    "target_names = ['Mobile Phone',\n",
    "                'Lying Flat',\n",
    "                'Computer Tasks',\n",
    "                'Writing',\n",
    "                'Leisure Walk',\n",
    "                'Moving Itesm',\n",
    "                'Repeated Face Touching',\n",
    "                'Eating and Drinking',\n",
    "                'Simulated Smoking',\n",
    "                'Adjusting Eyeglass']\n",
    "Y = np.array(Y)\n",
    "#target_names_test = ['non facetouching_test', 'facetouching_test']\n",
    "for color, i, target_name in zip(colors, [i for i in range(1, 11)], target_names):\n",
    "    plt.scatter(X_r[Y==i, 0], X_r[Y==i, 1], \n",
    "                color=color, alpha=.8, lw=lw,\n",
    "                label=target_name)\n",
    "'''\n",
    "for color, i, target_name in zip(colors_test, [0, 1], target_names_test):\n",
    "    plt.scatter(X_test[y_test==i, 0], X_test[y_test==i, 1], \n",
    "                color=color, alpha=.8, lw=lw,\n",
    "                label=target_name)\n",
    "'''\n",
    "plt.title(\"PCA on individual activity\")\n",
    "plt.legend(bbox_to_anchor=(1, 0.5), shadow=False)"
   ]
  },
  {
   "cell_type": "code",
   "execution_count": 11,
   "metadata": {},
   "outputs": [
    {
     "data": {
      "image/png": "[encoded data removed]",
      "text/plain": [
       "<Figure size 432x288 with 1 Axes>"
      ]
     },
     "metadata": {
      "needs_background": "light"
     },
     "output_type": "display_data"
    }
   ],
   "source": [
    "import seaborn as sns\n",
    "ax = sns.boxplot(y=\"mvm\", x=\"ActivityNumber\", data=data_created)"
   ]
  },
  {
   "cell_type": "code",
   "execution_count": 12,
   "metadata": {},
   "outputs": [
    {
     "data": {
      "image/png": "[encoded data removed]",
      "text/plain": [
       "<Figure size 432x288 with 1 Axes>"
      ]
     },
     "metadata": {
      "needs_background": "light"
     },
     "output_type": "display_data"
    }
   ],
   "source": [
    "import seaborn as sns\n",
    "ax = sns.boxplot(y=\"sdvm\", x=\"ActivityNumber\", data=data_created)"
   ]
  },
  {
   "cell_type": "code",
   "execution_count": 13,
   "metadata": {},
   "outputs": [
    {
     "data": {
      "image/png": "[encoded data removed]",
      "text/plain": [
       "<Figure size 432x288 with 1 Axes>"
      ]
     },
     "metadata": {
      "needs_background": "light"
     },
     "output_type": "display_data"
    }
   ],
   "source": [
    "import seaborn as sns\n",
    "ax = sns.boxplot(y=\"df\", x=\"ActivityNumber\", data=data_created)"
   ]
  },
  {
   "cell_type": "code",
   "execution_count": 14,
   "metadata": {},
   "outputs": [
    {
     "data": {
      "image/png": "[encoded data removed]",
      "text/plain": [
       "<Figure size 432x288 with 1 Axes>"
      ]
     },
     "metadata": {
      "needs_background": "light"
     },
     "output_type": "display_data"
    }
   ],
   "source": [
    "ax = sns.boxplot(y=\"p625\", x=\"ActivityNumber\", data=data_created)"
   ]
  },
  {
   "cell_type": "code",
   "execution_count": 15,
   "metadata": {},
   "outputs": [
    {
     "data": {
      "image/png": "[encoded data removed]",
      "text/plain": [
       "<Figure size 432x288 with 1 Axes>"
      ]
     },
     "metadata": {
      "needs_background": "light"
     },
     "output_type": "display_data"
    }
   ],
   "source": [
    "ax = sns.boxplot(y=\"fpdf\", x=\"ActivityNumber\", data=data_created)"
   ]
  },
  {
   "cell_type": "code",
   "execution_count": 16,
   "metadata": {},
   "outputs": [
    {
     "data": {
      "image/png": "[encoded data removed]",
      "text/plain": [
       "<Figure size 432x288 with 1 Axes>"
      ]
     },
     "metadata": {
      "needs_background": "light"
     },
     "output_type": "display_data"
    }
   ],
   "source": [
    "ax = sns.boxplot(y=\"mangle\", x=\"ActivityNumber\", data=data_created)"
   ]
  },
  {
   "cell_type": "code",
   "execution_count": 17,
   "metadata": {},
   "outputs": [
    {
     "data": {
      "image/png": "[encoded data removed]",
      "text/plain": [
       "<Figure size 432x288 with 1 Axes>"
      ]
     },
     "metadata": {
      "needs_background": "light"
     },
     "output_type": "display_data"
    }
   ],
   "source": [
    "ax = sns.boxplot(y=\"sdangle\", x=\"ActivityNumber\", data=data_created)"
   ]
  },
  {
   "cell_type": "code",
   "execution_count": 18,
   "metadata": {},
   "outputs": [
    {
     "name": "stderr",
     "output_type": "stream",
     "text": [
      "[Parallel(n_jobs=-1)]: Using backend LokyBackend with 4 concurrent workers.\n",
      "[Parallel(n_jobs=-1)]: Done   2 out of   5 | elapsed:  1.5min remaining:  2.2min\n",
      "[Parallel(n_jobs=-1)]: Done   3 out of   5 | elapsed:  1.5min remaining:   59.5s\n",
      "[Parallel(n_jobs=-1)]: Done   5 out of   5 | elapsed:  2.2min remaining:    0.0s\n",
      "[Parallel(n_jobs=-1)]: Done   5 out of   5 | elapsed:  2.2min finished\n"
     ]
    }
   ],
   "source": [
    "# nested cross validation for Random Forest model\n",
    "\n",
    "data_created = pd.read_csv(\"./../result/data_created.csv\")\n",
    "\n",
    "X = data_created.loc[:, [\"mvm\", \"sdvm\", \"df\", \"p625\", \"fpdf\", \"mangle\", \"sdangle\"]]\n",
    "y = data_created.loc[:, \"ActivityNumber\"]\n",
    "\n",
    "# configure the cross-validation procedure\n",
    "cv_inner = KFold(n_splits=5, shuffle=True, random_state=1)\n",
    "# define the model\n",
    "model = RandomForestClassifier(random_state=1)\n",
    "params = {\n",
    "    'n_estimators' : [50, 100, 150, 200],\n",
    "    'max_features' : [\"auto\", \"sqrt\", \"log2\"],\n",
    "    'min_samples_leaf' : [1, 3, 5]\n",
    "}\n",
    "\n",
    "search = GridSearchCV(model, param_grid=params, scoring=\"accuracy\",\n",
    "                      n_jobs=1, cv = cv_inner, refit=True, verbose=10)\n",
    "\n",
    "cv_outer = KFold(n_splits=5, shuffle=True, random_state=1)\n",
    "\n",
    "# scores for logistic regression\n",
    "scores_rf = cross_validate(search, X, y, scoring = [\"accuracy\", \"f1_macro\", \"recall_macro\", \"precision_macro\", \"roc_auc_ovr\"], \n",
    "                           return_train_score = True, cv=cv_outer, n_jobs=-1, verbose=10)\n"
   ]
  },
  {
   "cell_type": "code",
   "execution_count": 19,
   "metadata": {},
   "outputs": [
    {
     "name": "stdout",
     "output_type": "stream",
     "text": [
      "Accuracy on Training set:  1.0\n",
      "Accuracy on Test set:  0.8310526315789474\n",
      "F1 score on Training set:  1.0\n",
      "F1 score on Test set:  0.8165986793230029\n",
      "Precision on Training set:  1.0\n",
      "Precision on Test set:  0.8400114166878871\n",
      "Recall on Training set:  1.0\n",
      "Recall on Test set:  0.8197142343380733\n",
      "ROC-AUC on Training set:  1.0\n",
      "ROC-AUC on Test set:  0.9858567839839043\n"
     ]
    }
   ],
   "source": [
    "\n",
    "print(\"Accuracy on Training set: \", np.mean(scores_rf['train_accuracy']))\n",
    "print(\"Accuracy on Test set: \", np.mean(scores_rf['test_accuracy']))\n",
    "print(\"F1 score on Training set: \", np.mean(scores_rf['train_f1_macro']))\n",
    "print(\"F1 score on Test set: \", np.mean(scores_rf['test_f1_macro']))\n",
    "print(\"Precision on Training set: \", np.mean(scores_rf['train_precision_macro']))\n",
    "print(\"Precision on Test set: \", np.mean(scores_rf['test_precision_macro']))\n",
    "print(\"Recall on Training set: \", np.mean(scores_rf['train_recall_macro']))\n",
    "print(\"Recall on Test set: \", np.mean(scores_rf['test_recall_macro']))\n",
    "print(\"ROC-AUC on Training set: \", np.mean(scores_rf['train_roc_auc_ovr']))\n",
    "print(\"ROC-AUC on Test set: \", np.mean(scores_rf['test_roc_auc_ovr']))\n"
   ]
  },
  {
   "cell_type": "code",
   "execution_count": 20,
   "metadata": {},
   "outputs": [
    {
     "name": "stderr",
     "output_type": "stream",
     "text": [
      "[Parallel(n_jobs=-1)]: Using backend LokyBackend with 4 concurrent workers.\n",
      "[Parallel(n_jobs=-1)]: Done   2 out of   5 | elapsed:    3.8s remaining:    5.8s\n",
      "[Parallel(n_jobs=-1)]: Done   3 out of   5 | elapsed:    3.9s remaining:    2.6s\n",
      "[Parallel(n_jobs=-1)]: Done   5 out of   5 | elapsed:    5.7s remaining:    0.0s\n",
      "[Parallel(n_jobs=-1)]: Done   5 out of   5 | elapsed:    5.7s finished\n"
     ]
    }
   ],
   "source": [
    "# Logistic Regression\n",
    "# Configure the cross-validation procedure\n",
    "\n",
    "cv_inner = KFold(n_splits=5, shuffle=True, random_state=1)\n",
    "# define the model\n",
    "model = Pipeline([('normalizer', StandardScaler()),  # normalize data\n",
    "                  ('clf', LogisticRegression(random_state=1))  # fit Logistic regression model\n",
    "])\n",
    "\n",
    "params = {\n",
    "    'clf__solver' : ['newton-cg', 'lbfgs', 'liblinear'],\n",
    "    'clf__penalty' : [\"l2\"],\n",
    "    'clf__C' : [100, 10, 1.0, 0.1, 0.01]\n",
    "}\n",
    "\n",
    "search = GridSearchCV(model, param_grid=params, scoring=\"accuracy\",\n",
    "                      n_jobs=1, cv = cv_inner, refit=True, verbose=10)\n",
    "\n",
    "cv_outer = KFold(n_splits=5, shuffle=True, random_state=1)\n",
    "\n",
    "# scores for logistic regression\n",
    "scores_lr = cross_validate(search, X, y, scoring = [\"accuracy\", \"f1_macro\", \"recall_macro\", \"precision_macro\", \"roc_auc_ovr\"], \n",
    "                           return_train_score = True, cv=cv_outer, n_jobs=-1, verbose=10)\n"
   ]
  },
  {
   "cell_type": "code",
   "execution_count": 21,
   "metadata": {},
   "outputs": [
    {
     "name": "stdout",
     "output_type": "stream",
     "text": [
      "Accuracy on Training set:  0.8410304846274101\n",
      "Accuracy on Test set:  0.7860701754385965\n",
      "F1 score on Training set:  0.8456881328231672\n",
      "F1 score on Test set:  0.778544564996013\n",
      "Precision on Training set:  0.8461587271015245\n",
      "Precision on Test set:  0.7996011501398499\n",
      "Recall on Training set:  0.8466483872981257\n",
      "Recall on Test set:  0.7800383534594062\n",
      "ROC-AUC on Training set:  0.9878571199909502\n",
      "ROC-AUC on Test set:  0.9778271750824972\n"
     ]
    }
   ],
   "source": [
    "print(\"Accuracy on Training set: \", np.mean(scores_lr['train_accuracy']))\n",
    "print(\"Accuracy on Test set: \", np.mean(scores_lr['test_accuracy']))\n",
    "print(\"F1 score on Training set: \", np.mean(scores_lr['train_f1_macro']))\n",
    "print(\"F1 score on Test set: \", np.mean(scores_lr['test_f1_macro']))\n",
    "print(\"Precision on Training set: \", np.mean(scores_lr['train_precision_macro']))\n",
    "print(\"Precision on Test set: \", np.mean(scores_lr['test_precision_macro']))\n",
    "print(\"Recall on Training set: \", np.mean(scores_lr['train_recall_macro']))\n",
    "print(\"Recall on Test set: \", np.mean(scores_lr['test_recall_macro']))\n",
    "print(\"ROC-AUC on Training set: \", np.mean(scores_lr['train_roc_auc_ovr']))\n",
    "print(\"ROC-AUC on Test set: \", np.mean(scores_lr['test_roc_auc_ovr']))"
   ]
  },
  {
   "cell_type": "code",
   "execution_count": 22,
   "metadata": {},
   "outputs": [
    {
     "name": "stderr",
     "output_type": "stream",
     "text": [
      "[Parallel(n_jobs=-1)]: Using backend LokyBackend with 4 concurrent workers.\n",
      "[Parallel(n_jobs=-1)]: Done   2 out of   5 | elapsed:   21.7s remaining:   32.5s\n",
      "[Parallel(n_jobs=-1)]: Done   3 out of   5 | elapsed:   21.7s remaining:   14.5s\n",
      "[Parallel(n_jobs=-1)]: Done   5 out of   5 | elapsed:   33.5s remaining:    0.0s\n",
      "[Parallel(n_jobs=-1)]: Done   5 out of   5 | elapsed:   33.5s finished\n"
     ]
    }
   ],
   "source": [
    "# Support Vector Machine\n",
    "# configure the cross-validation procedure\n",
    "cv_inner = KFold(n_splits=5, shuffle=True, random_state=1)\n",
    "# define the model\n",
    "model = Pipeline([('normalizer', StandardScaler()),  # normalize data\n",
    "                  ('clf', SVC(random_state=1, probability=True))  # fit Logistic regression model\n",
    "])\n",
    "\n",
    "params = {\n",
    "    'clf__kernel' : ['poly', 'rbf', 'sigmoid'],\n",
    "    'clf__gamma' : [100, 10, 1, 0.1, 0.01, 0.001],\n",
    "    'clf__C' : [50, 10, 1.0, 0.1, 0.01, ]\n",
    "}\n",
    "\n",
    "search = GridSearchCV(model, param_grid=params, scoring=\"accuracy\",\n",
    "                      n_jobs=1, cv = cv_inner, refit=True, verbose=10)\n",
    "\n",
    "cv_outer = KFold(n_splits=5, shuffle=True, random_state=1)\n",
    "\n",
    "# scores for logistic regression\n",
    "scores_svm = cross_validate(search, X, y, scoring = [\"accuracy\", \"f1_macro\", \"recall_macro\", \"precision_macro\", \"roc_auc_ovr\"], \n",
    "                           return_train_score = True, cv=cv_outer, n_jobs=-1, verbose=10)"
   ]
  },
  {
   "cell_type": "code",
   "execution_count": 23,
   "metadata": {},
   "outputs": [
    {
     "name": "stdout",
     "output_type": "stream",
     "text": [
      "Accuracy on Training set:  0.9399665624457183\n",
      "Accuracy on Test set:  0.8838245614035088\n",
      "F1 score on Training set:  0.9351931735350991\n",
      "F1 score on Test set:  0.8715393500864088\n",
      "Precision on Training set:  0.9370113465940134\n",
      "Precision on Test set:  0.8881581401055085\n",
      "Recall on Training set:  0.9352356816235616\n",
      "Recall on Test set:  0.8749582289055973\n",
      "ROC-AUC on Training set:  0.996383297257811\n",
      "ROC-AUC on Test set:  0.9864877481500693\n"
     ]
    }
   ],
   "source": [
    "print(\"Accuracy on Training set: \", np.mean(scores_svm['train_accuracy']))\n",
    "print(\"Accuracy on Test set: \", np.mean(scores_svm['test_accuracy']))\n",
    "print(\"F1 score on Training set: \", np.mean(scores_svm['train_f1_macro']))\n",
    "print(\"F1 score on Test set: \", np.mean(scores_svm['test_f1_macro']))\n",
    "print(\"Precision on Training set: \", np.mean(scores_svm['train_precision_macro']))\n",
    "print(\"Precision on Test set: \", np.mean(scores_svm['test_precision_macro']))\n",
    "print(\"Recall on Training set: \", np.mean(scores_svm['train_recall_macro']))\n",
    "print(\"Recall on Test set: \", np.mean(scores_svm['test_recall_macro']))\n",
    "print(\"ROC-AUC on Training set: \", np.mean(scores_svm['train_roc_auc_ovr']))\n",
    "print(\"ROC-AUC on Test set: \", np.mean(scores_svm['test_roc_auc_ovr']))"
   ]
  },
  {
   "cell_type": "code",
   "execution_count": 24,
   "metadata": {},
   "outputs": [
    {
     "name": "stderr",
     "output_type": "stream",
     "text": [
      "[Parallel(n_jobs=-1)]: Using backend LokyBackend with 4 concurrent workers.\n",
      "[Parallel(n_jobs=-1)]: Done   2 out of   5 | elapsed:    1.2s remaining:    1.8s\n",
      "[Parallel(n_jobs=-1)]: Done   3 out of   5 | elapsed:    1.2s remaining:    0.8s\n",
      "[Parallel(n_jobs=-1)]: Done   5 out of   5 | elapsed:    1.8s remaining:    0.0s\n",
      "[Parallel(n_jobs=-1)]: Done   5 out of   5 | elapsed:    1.8s finished\n"
     ]
    }
   ],
   "source": [
    "# Decision Tree\n",
    "# configure the cross-validation procedure\n",
    "cv_inner = KFold(n_splits=5, shuffle=True, random_state=1)\n",
    "# define the model\n",
    "model = DecisionTreeClassifier(random_state=1)\n",
    "\n",
    "params = {\n",
    "    'criterion' : ['gini', 'entropy'],\n",
    "    'max_depth' : [2,4,6,8,10,12],\n",
    "    'min_samples_leaf' : [6, 8]\n",
    "}\n",
    "\n",
    "search = GridSearchCV(model, param_grid=params, scoring=\"accuracy\",\n",
    "                      n_jobs=1, cv = cv_inner, refit=True, verbose=10)\n",
    "\n",
    "cv_outer = KFold(n_splits=5, shuffle=True, random_state=1)\n",
    "\n",
    "# scores for logistic regression\n",
    "scores_dt = cross_validate(search, X, y, scoring = [\"accuracy\", \"f1_macro\", \"recall_macro\", \"precision_macro\", \"roc_auc_ovr\"], \n",
    "                           return_train_score = True, cv=cv_outer, n_jobs=-1, verbose=10)"
   ]
  },
  {
   "cell_type": "code",
   "execution_count": 25,
   "metadata": {},
   "outputs": [
    {
     "name": "stdout",
     "output_type": "stream",
     "text": [
      "Accuracy on Training set:  0.8449843668577385\n",
      "Accuracy on Test set:  0.6990526315789474\n",
      "F1 score on Training set:  0.8296694127674062\n",
      "F1 score on Test set:  0.6710123049353094\n",
      "Precision on Training set:  0.8402799986798494\n",
      "Precision on Test set:  0.6973502249384602\n",
      "Recall on Training set:  0.8340409034471191\n",
      "Recall on Test set:  0.6962035771246298\n",
      "ROC-AUC on Training set:  0.9865201591074063\n",
      "ROC-AUC on Test set:  0.9209017335617672\n"
     ]
    }
   ],
   "source": [
    "print(\"Accuracy on Training set: \", np.mean(scores_dt['train_accuracy']))\n",
    "print(\"Accuracy on Test set: \", np.mean(scores_dt['test_accuracy']))\n",
    "print(\"F1 score on Training set: \", np.mean(scores_dt['train_f1_macro']))\n",
    "print(\"F1 score on Test set: \", np.mean(scores_dt['test_f1_macro']))\n",
    "print(\"Precision on Training set: \", np.mean(scores_dt['train_precision_macro']))\n",
    "print(\"Precision on Test set: \", np.mean(scores_dt['test_precision_macro']))\n",
    "print(\"Recall on Training set: \", np.mean(scores_dt['train_recall_macro']))\n",
    "print(\"Recall on Test set: \", np.mean(scores_dt['test_recall_macro']))\n",
    "print(\"ROC-AUC on Training set: \", np.mean(scores_dt['train_roc_auc_ovr']))\n",
    "print(\"ROC-AUC on Test set: \", np.mean(scores_dt['test_roc_auc_ovr']))"
   ]
  },
  {
   "cell_type": "code",
   "execution_count": null,
   "metadata": {},
   "outputs": [],
   "source": []
  }
 ],
 "metadata": {
  "kernelspec": {
   "display_name": "Python 3",
   "language": "python",
   "name": "python3"
  },
  "language_info": {
   "codemirror_mode": {
    "name": "ipython",
    "version": 3
   },
   "file_extension": ".py",
   "mimetype": "text/x-python",
   "name": "python",
   "nbconvert_exporter": "python",
   "pygments_lexer": "ipython3",
   "version": "3.7.7"
  }
 },
 "nbformat": 4,
 "nbformat_minor": 4
}
