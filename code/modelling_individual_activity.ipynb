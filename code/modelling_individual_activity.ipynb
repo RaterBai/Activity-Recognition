{
 "cells": [
  {
   "cell_type": "code",
   "execution_count": 1,
   "metadata": {},
   "outputs": [],
   "source": [
    "import pandas as pd\n",
    "import numpy as np\n",
    "import matplotlib.pyplot as plt\n",
    "\n",
    "from sklearn.model_selection import GridSearchCV, train_test_split\n",
    "from sklearn.preprocessing import StandardScaler\n",
    "from sklearn.svm import SVC\n",
    "from sklearn.linear_model import LogisticRegression\n",
    "from sklearn.tree import DecisionTreeClassifier\n",
    "from sklearn.decomposition import PCA\n",
    "from sklearn.pipeline import Pipeline\n",
    "from sklearn.metrics import confusion_matrix, accuracy_score, f1_score, roc_curve, auc, plot_roc_curve\n",
    "from sklearn.ensemble import RandomForestClassifier"
   ]
  },
  {
   "cell_type": "code",
   "execution_count": 2,
   "metadata": {},
   "outputs": [],
   "source": [
    "data_created = pd.read_csv(\"./../result/data_created.csv\")"
   ]
  },
  {
   "cell_type": "code",
   "execution_count": 3,
   "metadata": {},
   "outputs": [],
   "source": [
    "X = data_created.loc[:, [\"mvm\", \"sdvm\", \"df\", \"p625\", \"fpdf\", \"mangle\", \"sdangle\"]]\n",
    "Y = data_created.loc[:, \"ActivityNumber\"]\n",
    "X_train, X_test, y_train, y_test = train_test_split(X, Y, test_size = 0.4, random_state = 123, shuffle=True)"
   ]
  },
  {
   "cell_type": "code",
   "execution_count": 5,
   "metadata": {},
   "outputs": [],
   "source": [
    "clfs = []\n",
    "lr = LogisticRegression()\n",
    "svm = SVC()\n",
    "rf = RandomForestClassifier()\n",
    "dt = DecisionTreeClassifier()\n",
    "\n",
    "clfs.append(lr)\n",
    "clfs.append(svm)\n",
    "clfs.append(rf)\n",
    "clfs.append(dt)"
   ]
  },
  {
   "cell_type": "code",
   "execution_count": 6,
   "metadata": {},
   "outputs": [],
   "source": [
    "pipeline = Pipeline([\n",
    "    ('normalizer', StandardScaler()),  # normalize data\n",
    "    ('clf', SVC())  # fit Logistic regression model\n",
    "])"
   ]
  },
  {
   "cell_type": "code",
   "execution_count": 24,
   "metadata": {},
   "outputs": [
    {
     "name": "stdout",
     "output_type": "stream",
     "text": [
      "-----------------------------------------\n",
      "LogisticRegression(C=1.0, class_weight=None, dual=False, fit_intercept=True,\n",
      "                   intercept_scaling=1, l1_ratio=None, max_iter=100,\n",
      "                   multi_class='auto', n_jobs=None, penalty='l2',\n",
      "                   random_state=None, solver='lbfgs', tol=0.0001, verbose=0,\n",
      "                   warm_start=False)\n",
      "Accuracy of training set 0.927083\n",
      "Accuracy of test set 0.890625\n",
      "[[5 0 0 0 0 0 0 0 0 0]\n",
      " [0 8 0 0 0 0 0 0 0 0]\n",
      " [0 0 7 0 0 0 0 0 0 0]\n",
      " [0 0 0 5 0 0 0 0 0 0]\n",
      " [0 0 0 0 7 0 0 0 0 0]\n",
      " [0 0 0 0 0 5 0 0 0 0]\n",
      " [0 0 0 0 0 0 5 0 0 0]\n",
      " [0 0 0 0 0 0 0 8 0 0]\n",
      " [0 0 0 0 0 0 1 0 5 0]\n",
      " [0 0 0 0 0 0 4 0 2 2]]\n",
      "-----------------------------------------\n",
      "SVC(C=1.0, break_ties=False, cache_size=200, class_weight=None, coef0=0.0,\n",
      "    decision_function_shape='ovr', degree=3, gamma='scale', kernel='rbf',\n",
      "    max_iter=-1, probability=False, random_state=None, shrinking=True,\n",
      "    tol=0.001, verbose=False)\n",
      "Accuracy of training set 0.833333\n",
      "Accuracy of test set 0.781250\n",
      "[[5 0 0 0 0 0 0 0 0 0]\n",
      " [2 1 0 5 0 0 0 0 0 0]\n",
      " [0 0 7 0 0 0 0 0 0 0]\n",
      " [0 0 0 5 0 0 0 0 0 0]\n",
      " [0 0 0 0 7 0 0 0 0 0]\n",
      " [0 0 0 0 0 5 0 0 0 0]\n",
      " [0 0 0 0 0 0 5 0 0 0]\n",
      " [0 0 0 0 0 0 0 8 0 0]\n",
      " [0 0 0 0 0 0 0 0 6 0]\n",
      " [0 0 0 0 0 0 4 0 3 1]]\n",
      "-----------------------------------------\n",
      "RandomForestClassifier(bootstrap=True, ccp_alpha=0.0, class_weight=None,\n",
      "                       criterion='gini', max_depth=None, max_features='auto',\n",
      "                       max_leaf_nodes=None, max_samples=None,\n",
      "                       min_impurity_decrease=0.0, min_impurity_split=None,\n",
      "                       min_samples_leaf=1, min_samples_split=2,\n",
      "                       min_weight_fraction_leaf=0.0, n_estimators=100,\n",
      "                       n_jobs=None, oob_score=False, random_state=None,\n",
      "                       verbose=0, warm_start=False)\n",
      "Accuracy of training set 1.000000\n",
      "Accuracy of test set 0.890625\n",
      "[[5 0 0 0 0 0 0 0 0 0]\n",
      " [0 8 0 0 0 0 0 0 0 0]\n",
      " [0 0 7 0 0 0 0 0 0 0]\n",
      " [0 0 0 5 0 0 0 0 0 0]\n",
      " [0 0 0 0 7 0 0 0 0 0]\n",
      " [0 0 0 0 0 5 0 0 0 0]\n",
      " [0 0 0 0 0 0 3 0 1 1]\n",
      " [0 0 0 0 0 1 0 7 0 0]\n",
      " [0 0 0 0 0 0 1 0 4 1]\n",
      " [0 0 0 0 0 0 1 0 1 6]]\n",
      "-----------------------------------------\n",
      "DecisionTreeClassifier(ccp_alpha=0.0, class_weight=None, criterion='gini',\n",
      "                       max_depth=None, max_features=None, max_leaf_nodes=None,\n",
      "                       min_impurity_decrease=0.0, min_impurity_split=None,\n",
      "                       min_samples_leaf=1, min_samples_split=2,\n",
      "                       min_weight_fraction_leaf=0.0, presort='deprecated',\n",
      "                       random_state=None, splitter='best')\n",
      "Accuracy of training set 1.000000\n",
      "Accuracy of test set 0.859375\n",
      "[[5 0 0 0 0 0 0 0 0 0]\n",
      " [0 8 0 0 0 0 0 0 0 0]\n",
      " [0 0 7 0 0 0 0 0 0 0]\n",
      " [0 0 0 5 0 0 0 0 0 0]\n",
      " [0 0 0 0 7 0 0 0 0 0]\n",
      " [0 0 0 0 0 5 0 0 0 0]\n",
      " [1 0 0 0 0 0 1 0 1 2]\n",
      " [0 0 0 0 0 0 0 8 0 0]\n",
      " [0 0 0 0 0 0 0 1 4 1]\n",
      " [0 0 0 0 0 0 0 2 1 5]]\n"
     ]
    }
   ],
   "source": [
    "for clf in clfs:\n",
    "    pipeline.set_params(clf =  clf)\n",
    "    pipeline.fit(X_train, y_train)\n",
    "    y_pred = pipeline.predict(X_test)\n",
    "    acc_train = accuracy_score(pipeline.predict(X_train), y_train)\n",
    "    acc_test = accuracy_score(y_test, y_pred)\n",
    "    \n",
    "    print(\"-----------------------------------------\")\n",
    "    print(str(clf))\n",
    "    print(\"Accuracy of training set %f\"%acc_train)\n",
    "    print(\"Accuracy of test set %f\"%acc_test)\n",
    "    print(confusion_matrix(y_test, y_pred))\n",
    "    #print(\"F1-score %f\"%f1)\n",
    "    #clf_disp = plot_roc_curve(pipeline, X_test, y_test)\n",
    "    #plt.plot([0, 1], [0, 1], color='orange', lw=2, linestyle='--')\n",
    "    #plt.show()"
   ]
  },
  {
   "cell_type": "code",
   "execution_count": 11,
   "metadata": {},
   "outputs": [],
   "source": [
    "# PCA\n",
    "X_r = PCA(n_components=2).fit_transform(X)\n",
    "#X_train, X_test, y_train, y_test = train_test_split(X_r, Y, test_size = 0.4, random_state = 123, shuffle=True)"
   ]
  },
  {
   "cell_type": "code",
   "execution_count": 18,
   "metadata": {},
   "outputs": [
    {
     "data": {
      "text/plain": [
       "array([ 1,  1,  1,  2,  2,  2,  3,  3,  3,  4,  4,  4,  4,  5,  5,  5,  5,\n",
       "        6,  6,  6,  7,  7,  7,  8,  8,  8,  9,  9,  9, 10, 10, 10,  1,  1,\n",
       "        1,  2,  2,  2,  3,  3,  3,  4,  4,  4,  5,  5,  5,  5,  6,  6,  6,\n",
       "        7,  7,  7,  8,  8,  8,  9,  9,  9, 10, 10, 10,  1,  1,  1,  2,  2,\n",
       "        2,  2,  3,  3,  3,  4,  4,  4,  4,  5,  5,  5,  6,  6,  6,  6,  7,\n",
       "        7,  7,  8,  8,  8,  9,  9,  9, 10, 10, 10,  1,  1,  1,  2,  2,  2,\n",
       "        3,  3,  3,  3,  4,  4,  4,  4,  5,  5,  5,  5,  6,  6,  6,  7,  7,\n",
       "        7,  8,  8,  8,  9,  9,  9, 10, 10, 10,  1,  1,  1,  2,  2,  2,  3,\n",
       "        3,  3,  4,  4,  4,  4,  5,  5,  5,  6,  6,  6,  7,  7,  7,  8,  8,\n",
       "        8,  9,  9,  9, 10, 10, 10])"
      ]
     },
     "execution_count": 18,
     "metadata": {},
     "output_type": "execute_result"
    }
   ],
   "source": [
    "np.array(Y)"
   ]
  },
  {
   "cell_type": "code",
   "execution_count": 23,
   "metadata": {},
   "outputs": [
    {
     "data": {
      "text/plain": [
       "<matplotlib.legend.Legend at 0x7fed01bc7790>"
      ]
     },
     "execution_count": 23,
     "metadata": {},
     "output_type": "execute_result"
    },
    {
     "data": {
      "image/png": "[encoded data removed]",
      "text/plain": [
       "<Figure size 432x288 with 1 Axes>"
      ]
     },
     "metadata": {
      "needs_background": "light"
     },
     "output_type": "display_data"
    }
   ],
   "source": [
    "colors = ['navy', 'turquoise', 'black', 'yellow', 'orange', 'red', 'green', 'purple', 'pink']\n",
    "#colors_test = ['yellow', 'red']\n",
    "lw = 2\n",
    "target_names = ['Mobile Phone',\n",
    "                'Lying Flat',\n",
    "                'Computer Tasks',\n",
    "                'Writing',\n",
    "                'Leisure Walk',\n",
    "                'Moving Itesm',\n",
    "                'Repeated Face Touching',\n",
    "                'Eating and Drinking',\n",
    "                'Simulated Smoking',\n",
    "                'Adjusting Eyeglass']\n",
    "Y = np.array(Y)\n",
    "#target_names_test = ['non facetouching_test', 'facetouching_test']\n",
    "for color, i, target_name in zip(colors, [i for i in range(1, 11)], target_names):\n",
    "    plt.scatter(X_r[Y==i, 0], X_r[Y==i, 1], \n",
    "                color=color, alpha=.8, lw=lw,\n",
    "                label=target_name)\n",
    "'''\n",
    "for color, i, target_name in zip(colors_test, [0, 1], target_names_test):\n",
    "    plt.scatter(X_test[y_test==i, 0], X_test[y_test==i, 1], \n",
    "                color=color, alpha=.8, lw=lw,\n",
    "                label=target_name)\n",
    "'''\n",
    "plt.title(\"PCA on individual activity\")\n",
    "plt.legend(bbox_to_anchor=(1, 0.5), shadow=False)"
   ]
  },
  {
   "cell_type": "code",
   "execution_count": 29,
   "metadata": {},
   "outputs": [
    {
     "data": {
      "image/png": "[encoded data removed]",
      "text/plain": [
       "<Figure size 432x288 with 1 Axes>"
      ]
     },
     "metadata": {
      "needs_background": "light"
     },
     "output_type": "display_data"
    }
   ],
   "source": [
    "import seaborn as sns\n",
    "ax = sns.boxplot(y=\"mvm\", x=\"ActivityNumber\", data=data_created)"
   ]
  },
  {
   "cell_type": "code",
   "execution_count": 30,
   "metadata": {},
   "outputs": [
    {
     "data": {
      "image/png": "[encoded data removed]",
      "text/plain": [
       "<Figure size 432x288 with 1 Axes>"
      ]
     },
     "metadata": {
      "needs_background": "light"
     },
     "output_type": "display_data"
    }
   ],
   "source": [
    "import seaborn as sns\n",
    "ax = sns.boxplot(y=\"sdvm\", x=\"ActivityNumber\", data=data_created)"
   ]
  },
  {
   "cell_type": "code",
   "execution_count": 31,
   "metadata": {},
   "outputs": [
    {
     "data": {
      "image/png": "[encoded data removed]",
      "text/plain": [
       "<Figure size 432x288 with 1 Axes>"
      ]
     },
     "metadata": {
      "needs_background": "light"
     },
     "output_type": "display_data"
    }
   ],
   "source": [
    "import seaborn as sns\n",
    "ax = sns.boxplot(y=\"df\", x=\"ActivityNumber\", data=data_created)"
   ]
  },
  {
   "cell_type": "code",
   "execution_count": 32,
   "metadata": {},
   "outputs": [
    {
     "data": {
      "image/png": "[encoded data removed]",
      "text/plain": [
       "<Figure size 432x288 with 1 Axes>"
      ]
     },
     "metadata": {
      "needs_background": "light"
     },
     "output_type": "display_data"
    }
   ],
   "source": [
    "ax = sns.boxplot(y=\"p625\", x=\"ActivityNumber\", data=data_created)"
   ]
  },
  {
   "cell_type": "code",
   "execution_count": 33,
   "metadata": {},
   "outputs": [
    {
     "data": {
      "image/png": "[encoded data removed]",
      "text/plain": [
       "<Figure size 432x288 with 1 Axes>"
      ]
     },
     "metadata": {
      "needs_background": "light"
     },
     "output_type": "display_data"
    }
   ],
   "source": [
    "ax = sns.boxplot(y=\"fpdf\", x=\"ActivityNumber\", data=data_created)"
   ]
  },
  {
   "cell_type": "code",
   "execution_count": 35,
   "metadata": {},
   "outputs": [
    {
     "data": {
      "image/png": "[encoded data removed]",
      "text/plain": [
       "<Figure size 432x288 with 1 Axes>"
      ]
     },
     "metadata": {
      "needs_background": "light"
     },
     "output_type": "display_data"
    }
   ],
   "source": [
    "ax = sns.boxplot(y=\"mangle\", x=\"ActivityNumber\", data=data_created)"
   ]
  },
  {
   "cell_type": "code",
   "execution_count": 36,
   "metadata": {},
   "outputs": [
    {
     "data": {
      "image/png": "[encoded data removed]",
      "text/plain": [
       "<Figure size 432x288 with 1 Axes>"
      ]
     },
     "metadata": {
      "needs_background": "light"
     },
     "output_type": "display_data"
    }
   ],
   "source": [
    "ax = sns.boxplot(y=\"sdangle\", x=\"ActivityNumber\", data=data_created)"
   ]
  },
  {
   "cell_type": "code",
   "execution_count": 26,
   "metadata": {},
   "outputs": [
    {
     "data": {
      "text/html": [
       "<div>\n",
       "<style scoped>\n",
       "    .dataframe tbody tr th:only-of-type {\n",
       "        vertical-align: middle;\n",
       "    }\n",
       "\n",
       "    .dataframe tbody tr th {\n",
       "        vertical-align: top;\n",
       "    }\n",
       "\n",
       "    .dataframe thead th {\n",
       "        text-align: right;\n",
       "    }\n",
       "</style>\n",
       "<table border=\"1\" class=\"dataframe\">\n",
       "  <thead>\n",
       "    <tr style=\"text-align: right;\">\n",
       "      <th></th>\n",
       "      <th>PID</th>\n",
       "      <th>ActivityNumber</th>\n",
       "      <th>group</th>\n",
       "      <th>mvm</th>\n",
       "      <th>sdvm</th>\n",
       "      <th>df</th>\n",
       "      <th>p625</th>\n",
       "      <th>fpdf</th>\n",
       "      <th>mangle</th>\n",
       "      <th>sdangle</th>\n",
       "    </tr>\n",
       "  </thead>\n",
       "  <tbody>\n",
       "    <tr>\n",
       "      <th>0</th>\n",
       "      <td>3</td>\n",
       "      <td>1</td>\n",
       "      <td>0</td>\n",
       "      <td>10.212443</td>\n",
       "      <td>0.177938</td>\n",
       "      <td>6.2</td>\n",
       "      <td>0.026051</td>\n",
       "      <td>0.019942</td>\n",
       "      <td>-12.444212</td>\n",
       "      <td>0.851601</td>\n",
       "    </tr>\n",
       "    <tr>\n",
       "      <th>1</th>\n",
       "      <td>3</td>\n",
       "      <td>1</td>\n",
       "      <td>0</td>\n",
       "      <td>10.218438</td>\n",
       "      <td>0.378222</td>\n",
       "      <td>1.8</td>\n",
       "      <td>0.026051</td>\n",
       "      <td>0.020963</td>\n",
       "      <td>-12.031269</td>\n",
       "      <td>2.009492</td>\n",
       "    </tr>\n",
       "    <tr>\n",
       "      <th>2</th>\n",
       "      <td>3</td>\n",
       "      <td>1</td>\n",
       "      <td>0</td>\n",
       "      <td>10.212566</td>\n",
       "      <td>0.174238</td>\n",
       "      <td>4.3</td>\n",
       "      <td>0.026051</td>\n",
       "      <td>0.025539</td>\n",
       "      <td>-12.696323</td>\n",
       "      <td>0.595054</td>\n",
       "    </tr>\n",
       "    <tr>\n",
       "      <th>3</th>\n",
       "      <td>3</td>\n",
       "      <td>2</td>\n",
       "      <td>0</td>\n",
       "      <td>10.143824</td>\n",
       "      <td>0.188727</td>\n",
       "      <td>3.0</td>\n",
       "      <td>0.026051</td>\n",
       "      <td>0.018592</td>\n",
       "      <td>-4.512657</td>\n",
       "      <td>2.094529</td>\n",
       "    </tr>\n",
       "    <tr>\n",
       "      <th>4</th>\n",
       "      <td>3</td>\n",
       "      <td>2</td>\n",
       "      <td>0</td>\n",
       "      <td>10.146730</td>\n",
       "      <td>0.098754</td>\n",
       "      <td>1.8</td>\n",
       "      <td>0.026051</td>\n",
       "      <td>0.021329</td>\n",
       "      <td>-3.473577</td>\n",
       "      <td>0.363055</td>\n",
       "    </tr>\n",
       "    <tr>\n",
       "      <th>...</th>\n",
       "      <td>...</td>\n",
       "      <td>...</td>\n",
       "      <td>...</td>\n",
       "      <td>...</td>\n",
       "      <td>...</td>\n",
       "      <td>...</td>\n",
       "      <td>...</td>\n",
       "      <td>...</td>\n",
       "      <td>...</td>\n",
       "      <td>...</td>\n",
       "    </tr>\n",
       "    <tr>\n",
       "      <th>155</th>\n",
       "      <td>1</td>\n",
       "      <td>9</td>\n",
       "      <td>1</td>\n",
       "      <td>10.112501</td>\n",
       "      <td>0.625385</td>\n",
       "      <td>1.3</td>\n",
       "      <td>0.026051</td>\n",
       "      <td>0.064847</td>\n",
       "      <td>-18.978040</td>\n",
       "      <td>20.451570</td>\n",
       "    </tr>\n",
       "    <tr>\n",
       "      <th>156</th>\n",
       "      <td>1</td>\n",
       "      <td>9</td>\n",
       "      <td>1</td>\n",
       "      <td>10.070492</td>\n",
       "      <td>0.703799</td>\n",
       "      <td>0.8</td>\n",
       "      <td>0.026051</td>\n",
       "      <td>0.041686</td>\n",
       "      <td>-21.200810</td>\n",
       "      <td>20.647450</td>\n",
       "    </tr>\n",
       "    <tr>\n",
       "      <th>157</th>\n",
       "      <td>1</td>\n",
       "      <td>10</td>\n",
       "      <td>1</td>\n",
       "      <td>9.972411</td>\n",
       "      <td>1.066717</td>\n",
       "      <td>1.1</td>\n",
       "      <td>0.026051</td>\n",
       "      <td>0.051777</td>\n",
       "      <td>-27.394660</td>\n",
       "      <td>22.583918</td>\n",
       "    </tr>\n",
       "    <tr>\n",
       "      <th>158</th>\n",
       "      <td>1</td>\n",
       "      <td>10</td>\n",
       "      <td>1</td>\n",
       "      <td>10.109878</td>\n",
       "      <td>0.889149</td>\n",
       "      <td>0.7</td>\n",
       "      <td>0.026051</td>\n",
       "      <td>0.077718</td>\n",
       "      <td>-28.438843</td>\n",
       "      <td>17.460738</td>\n",
       "    </tr>\n",
       "    <tr>\n",
       "      <th>159</th>\n",
       "      <td>1</td>\n",
       "      <td>10</td>\n",
       "      <td>1</td>\n",
       "      <td>9.982973</td>\n",
       "      <td>1.100320</td>\n",
       "      <td>1.1</td>\n",
       "      <td>0.026051</td>\n",
       "      <td>0.049016</td>\n",
       "      <td>-33.877968</td>\n",
       "      <td>19.315027</td>\n",
       "    </tr>\n",
       "  </tbody>\n",
       "</table>\n",
       "<p>160 rows × 10 columns</p>\n",
       "</div>"
      ],
      "text/plain": [
       "     PID  ActivityNumber  group        mvm      sdvm   df      p625      fpdf  \\\n",
       "0      3               1      0  10.212443  0.177938  6.2  0.026051  0.019942   \n",
       "1      3               1      0  10.218438  0.378222  1.8  0.026051  0.020963   \n",
       "2      3               1      0  10.212566  0.174238  4.3  0.026051  0.025539   \n",
       "3      3               2      0  10.143824  0.188727  3.0  0.026051  0.018592   \n",
       "4      3               2      0  10.146730  0.098754  1.8  0.026051  0.021329   \n",
       "..   ...             ...    ...        ...       ...  ...       ...       ...   \n",
       "155    1               9      1  10.112501  0.625385  1.3  0.026051  0.064847   \n",
       "156    1               9      1  10.070492  0.703799  0.8  0.026051  0.041686   \n",
       "157    1              10      1   9.972411  1.066717  1.1  0.026051  0.051777   \n",
       "158    1              10      1  10.109878  0.889149  0.7  0.026051  0.077718   \n",
       "159    1              10      1   9.982973  1.100320  1.1  0.026051  0.049016   \n",
       "\n",
       "        mangle    sdangle  \n",
       "0   -12.444212   0.851601  \n",
       "1   -12.031269   2.009492  \n",
       "2   -12.696323   0.595054  \n",
       "3    -4.512657   2.094529  \n",
       "4    -3.473577   0.363055  \n",
       "..         ...        ...  \n",
       "155 -18.978040  20.451570  \n",
       "156 -21.200810  20.647450  \n",
       "157 -27.394660  22.583918  \n",
       "158 -28.438843  17.460738  \n",
       "159 -33.877968  19.315027  \n",
       "\n",
       "[160 rows x 10 columns]"
      ]
     },
     "execution_count": 26,
     "metadata": {},
     "output_type": "execute_result"
    }
   ],
   "source": [
    "data_created"
   ]
  },
  {
   "cell_type": "code",
   "execution_count": null,
   "metadata": {},
   "outputs": [],
   "source": []
  }
 ],
 "metadata": {
  "kernelspec": {
   "display_name": "Python 3",
   "language": "python",
   "name": "python3"
  },
  "language_info": {
   "codemirror_mode": {
    "name": "ipython",
    "version": 3
   },
   "file_extension": ".py",
   "mimetype": "text/x-python",
   "name": "python",
   "nbconvert_exporter": "python",
   "pygments_lexer": "ipython3",
   "version": "3.7.7"
  }
 },
 "nbformat": 4,
 "nbformat_minor": 4
}
