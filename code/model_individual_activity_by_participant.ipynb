{
 "cells": [
  {
   "cell_type": "code",
   "execution_count": 1,
   "metadata": {},
   "outputs": [],
   "source": [
    "import pandas as pd\n",
    "import numpy as np\n",
    "import matplotlib.pyplot as plt\n",
    "\n",
    "from sklearn.model_selection import GridSearchCV, train_test_split, cross_val_score, KFold, cross_validate\n",
    "from sklearn.preprocessing import StandardScaler\n",
    "from sklearn.svm import SVC\n",
    "from sklearn.linear_model import LogisticRegression\n",
    "from sklearn.tree import DecisionTreeClassifier\n",
    "from sklearn.decomposition import PCA\n",
    "from sklearn.pipeline import Pipeline\n",
    "from sklearn.metrics import confusion_matrix, accuracy_score, f1_score, roc_curve, roc_auc_score, auc, plot_roc_curve, precision_score, recall_score\n",
    "from sklearn.ensemble import RandomForestClassifier\n",
    "from sklearn.model_selection import GroupKFold"
   ]
  },
  {
   "cell_type": "code",
   "execution_count": 2,
   "metadata": {},
   "outputs": [],
   "source": [
    "inner_fold = 4\n",
    "outer_fold = 5"
   ]
  },
  {
   "cell_type": "code",
   "execution_count": 3,
   "metadata": {},
   "outputs": [],
   "source": [
    "data = pd.read_csv(\"./../result/data_created.csv\")\n",
    "groups = data.PID\n",
    "X = data.loc[:, [\"mvm\", \"sdvm\", \"df\", \"p625\", \"fpdf\", \"mangle\", \"sdangle\"]]\n",
    "y = data[\"ActivityNumber\"]"
   ]
  },
  {
   "cell_type": "code",
   "execution_count": 4,
   "metadata": {},
   "outputs": [
    {
     "name": "stdout",
     "output_type": "stream",
     "text": [
      "Fitting 4 folds for each of 36 candidates, totalling 144 fits\n"
     ]
    },
    {
     "name": "stderr",
     "output_type": "stream",
     "text": [
      "[Parallel(n_jobs=-1)]: Using backend LokyBackend with 4 concurrent workers.\n",
      "[Parallel(n_jobs=-1)]: Done  42 tasks      | elapsed:   20.6s\n",
      "[Parallel(n_jobs=-1)]: Done 144 out of 144 | elapsed:   40.8s finished\n",
      "[Parallel(n_jobs=-1)]: Using backend LokyBackend with 4 concurrent workers.\n"
     ]
    },
    {
     "name": "stdout",
     "output_type": "stream",
     "text": [
      "Fitting 4 folds for each of 36 candidates, totalling 144 fits\n"
     ]
    },
    {
     "name": "stderr",
     "output_type": "stream",
     "text": [
      "[Parallel(n_jobs=-1)]: Done  42 tasks      | elapsed:    8.5s\n",
      "[Parallel(n_jobs=-1)]: Done 144 out of 144 | elapsed:   27.2s finished\n"
     ]
    },
    {
     "name": "stdout",
     "output_type": "stream",
     "text": [
      "Fitting 4 folds for each of 36 candidates, totalling 144 fits\n"
     ]
    },
    {
     "name": "stderr",
     "output_type": "stream",
     "text": [
      "[Parallel(n_jobs=-1)]: Using backend LokyBackend with 4 concurrent workers.\n",
      "[Parallel(n_jobs=-1)]: Done  42 tasks      | elapsed:    7.2s\n",
      "[Parallel(n_jobs=-1)]: Done 144 out of 144 | elapsed:   24.8s finished\n"
     ]
    },
    {
     "name": "stdout",
     "output_type": "stream",
     "text": [
      "Fitting 4 folds for each of 36 candidates, totalling 144 fits\n"
     ]
    },
    {
     "name": "stderr",
     "output_type": "stream",
     "text": [
      "[Parallel(n_jobs=-1)]: Using backend LokyBackend with 4 concurrent workers.\n",
      "[Parallel(n_jobs=-1)]: Done  42 tasks      | elapsed:    7.5s\n",
      "[Parallel(n_jobs=-1)]: Done 144 out of 144 | elapsed:   28.2s finished\n"
     ]
    },
    {
     "name": "stdout",
     "output_type": "stream",
     "text": [
      "Fitting 4 folds for each of 36 candidates, totalling 144 fits\n"
     ]
    },
    {
     "name": "stderr",
     "output_type": "stream",
     "text": [
      "[Parallel(n_jobs=-1)]: Using backend LokyBackend with 4 concurrent workers.\n",
      "[Parallel(n_jobs=-1)]: Done  42 tasks      | elapsed:   10.7s\n",
      "[Parallel(n_jobs=-1)]: Done 144 out of 144 | elapsed:   31.4s finished\n"
     ]
    },
    {
     "name": "stdout",
     "output_type": "stream",
     "text": [
      "Average accuracy on test set:  0.7924388185654009\n",
      "Average F1-Score on test set:  0.7841471636703927\n",
      "Average precision on test set:  0.806282801477848\n",
      "Average recall on test set:  0.7858590576090577\n"
     ]
    }
   ],
   "source": [
    "# nested cross validation for Random Forest model\n",
    "# nested cross validation for Random Forest model\n",
    "# configure the cross-validation procedure\n",
    "inner_cv = GroupKFold(n_splits=inner_fold)\n",
    "outer_cv = GroupKFold(n_splits=outer_fold)\n",
    "\n",
    "# define the model\n",
    "model = RandomForestClassifier(random_state=1)\n",
    "params = {\n",
    "    'n_estimators' : [50, 100, 150, 200],\n",
    "    'max_features' : [\"auto\", \"sqrt\", \"log2\"],\n",
    "    'min_samples_leaf' : [1, 3, 5]\n",
    "}\n",
    "\n",
    "acc = []\n",
    "f1 = []\n",
    "precision = []\n",
    "recall = []\n",
    "auc_score = []\n",
    "\n",
    "\n",
    "for train_index, test_index in outer_cv.split(X, y, groups=groups):\n",
    "    x_train, x_test = X.iloc[train_index], X.iloc[test_index]\n",
    "    y_train, y_test = y[train_index], y[test_index]\n",
    "\n",
    "    grid = GridSearchCV(estimator=model,\n",
    "                        param_grid=params,\n",
    "                        cv=inner_cv,\n",
    "                        scoring=\"accuracy\",\n",
    "                        refit=True,\n",
    "                        verbose=1,\n",
    "                        n_jobs=-1)\n",
    "    \n",
    "    grid.fit(x_train, y_train, groups=groups[train_index])\n",
    "    prediction = grid.predict(x_test)\n",
    "    \n",
    "    _acc = accuracy_score(y_test, prediction)\n",
    "    _f1 = f1_score(y_test, prediction, average=\"macro\")\n",
    "    _precision = precision_score(y_test, prediction, average=\"macro\")\n",
    "    _recall = recall_score(y_test, prediction, average=\"macro\")\n",
    "    #_auc = roc_auc_score(y_test, prediction, multi_class=\"ovr\", average=\"macro\")\n",
    "    \n",
    "    acc.append(_acc)\n",
    "    f1.append(_f1)\n",
    "    precision.append(_precision)\n",
    "    recall.append(_recall)\n",
    "    #auc_score.append(_auc)\n",
    "\n",
    "print(\"Average accuracy on test set: \", np.mean(acc))\n",
    "print(\"Average F1-Score on test set: \", np.mean(f1))\n",
    "print(\"Average precision on test set: \", np.mean(precision))\n",
    "print(\"Average recall on test set: \", np.mean(recall))\n",
    "#print(\"Average auc on test set: \", np.mean(auc_score))"
   ]
  },
  {
   "cell_type": "code",
   "execution_count": 5,
   "metadata": {},
   "outputs": [
    {
     "name": "stdout",
     "output_type": "stream",
     "text": [
      "Fitting 4 folds for each of 15 candidates, totalling 60 fits\n"
     ]
    },
    {
     "name": "stderr",
     "output_type": "stream",
     "text": [
      "[Parallel(n_jobs=-1)]: Using backend LokyBackend with 4 concurrent workers.\n",
      "[Parallel(n_jobs=-1)]: Done  42 tasks      | elapsed:    1.6s\n",
      "[Parallel(n_jobs=-1)]: Done  60 out of  60 | elapsed:    1.8s finished\n"
     ]
    },
    {
     "name": "stdout",
     "output_type": "stream",
     "text": [
      "Fitting 4 folds for each of 15 candidates, totalling 60 fits\n"
     ]
    },
    {
     "name": "stderr",
     "output_type": "stream",
     "text": [
      "[Parallel(n_jobs=-1)]: Using backend LokyBackend with 4 concurrent workers.\n",
      "[Parallel(n_jobs=-1)]: Done  53 out of  60 | elapsed:    2.2s remaining:    0.3s\n",
      "[Parallel(n_jobs=-1)]: Done  60 out of  60 | elapsed:    2.4s finished\n"
     ]
    },
    {
     "name": "stdout",
     "output_type": "stream",
     "text": [
      "Fitting 4 folds for each of 15 candidates, totalling 60 fits\n"
     ]
    },
    {
     "name": "stderr",
     "output_type": "stream",
     "text": [
      "[Parallel(n_jobs=-1)]: Using backend LokyBackend with 4 concurrent workers.\n",
      "[Parallel(n_jobs=-1)]: Done  42 tasks      | elapsed:    2.2s\n",
      "[Parallel(n_jobs=-1)]: Done  60 out of  60 | elapsed:    2.6s finished\n",
      "/Users/bai_chen/opt/anaconda3/lib/python3.7/site-packages/sklearn/linear_model/_logistic.py:940: ConvergenceWarning: lbfgs failed to converge (status=1):\n",
      "STOP: TOTAL NO. of ITERATIONS REACHED LIMIT.\n",
      "\n",
      "Increase the number of iterations (max_iter) or scale the data as shown in:\n",
      "    https://scikit-learn.org/stable/modules/preprocessing.html\n",
      "Please also refer to the documentation for alternative solver options:\n",
      "    https://scikit-learn.org/stable/modules/linear_model.html#logistic-regression\n",
      "  extra_warning_msg=_LOGISTIC_SOLVER_CONVERGENCE_MSG)\n",
      "[Parallel(n_jobs=-1)]: Using backend LokyBackend with 4 concurrent workers.\n"
     ]
    },
    {
     "name": "stdout",
     "output_type": "stream",
     "text": [
      "Fitting 4 folds for each of 15 candidates, totalling 60 fits\n"
     ]
    },
    {
     "name": "stderr",
     "output_type": "stream",
     "text": [
      "[Parallel(n_jobs=-1)]: Done  60 out of  60 | elapsed:    1.7s finished\n",
      "/Users/bai_chen/opt/anaconda3/lib/python3.7/site-packages/sklearn/linear_model/_logistic.py:940: ConvergenceWarning: lbfgs failed to converge (status=1):\n",
      "STOP: TOTAL NO. of ITERATIONS REACHED LIMIT.\n",
      "\n",
      "Increase the number of iterations (max_iter) or scale the data as shown in:\n",
      "    https://scikit-learn.org/stable/modules/preprocessing.html\n",
      "Please also refer to the documentation for alternative solver options:\n",
      "    https://scikit-learn.org/stable/modules/linear_model.html#logistic-regression\n",
      "  extra_warning_msg=_LOGISTIC_SOLVER_CONVERGENCE_MSG)\n",
      "[Parallel(n_jobs=-1)]: Using backend LokyBackend with 4 concurrent workers.\n"
     ]
    },
    {
     "name": "stdout",
     "output_type": "stream",
     "text": [
      "Fitting 4 folds for each of 15 candidates, totalling 60 fits\n",
      "Average accuracy on test set:  0.7653670886075951\n",
      "Average F1-Score on test set:  0.7571441760631814\n",
      "Average precision on test set:  0.7863828622358033\n",
      "Average recall on test set:  0.7658183483183483\n"
     ]
    },
    {
     "name": "stderr",
     "output_type": "stream",
     "text": [
      "[Parallel(n_jobs=-1)]: Done  60 out of  60 | elapsed:    1.6s finished\n"
     ]
    }
   ],
   "source": [
    "# Logistic Regression\n",
    "# configure the cross-validation procedure\n",
    "inner_cv = GroupKFold(n_splits=inner_fold)\n",
    "outer_cv = GroupKFold(n_splits=outer_fold)\n",
    "\n",
    "model = Pipeline([('normalizer', StandardScaler()),  # normalize data\n",
    "                  ('clf', LogisticRegression(random_state=1))  # fit Logistic regression model\n",
    "])\n",
    "\n",
    "\n",
    "params = {\n",
    "    'clf__solver' : ['newton-cg', 'lbfgs', 'liblinear'],\n",
    "    'clf__penalty' : [\"l2\"],\n",
    "    'clf__C' : [100, 10, 1.0, 0.1, 0.01]\n",
    "}\n",
    "\n",
    "acc = []\n",
    "f1 = []\n",
    "precision = []\n",
    "recall = []\n",
    "auc_score = []\n",
    "\n",
    "\n",
    "for train_index, test_index in outer_cv.split(X, y, groups=groups):\n",
    "    x_train, x_test = X.iloc[train_index], X.iloc[test_index]\n",
    "    y_train, y_test = y[train_index], y[test_index]\n",
    "\n",
    "    grid = GridSearchCV(estimator=model,\n",
    "                        param_grid=params,\n",
    "                        cv=inner_cv,\n",
    "                        scoring=\"accuracy\",\n",
    "                        refit=True,\n",
    "                        verbose=1,\n",
    "                        n_jobs=-1)\n",
    "    \n",
    "    grid.fit(x_train, y_train, groups=groups[train_index])\n",
    "    prediction = grid.predict(x_test)\n",
    "    \n",
    "    _acc = accuracy_score(y_test, prediction)\n",
    "    _f1 = f1_score(y_test, prediction, average=\"macro\")\n",
    "    _precision = precision_score(y_test, prediction, average=\"macro\")\n",
    "    _recall = recall_score(y_test, prediction, average=\"macro\")\n",
    "    #_auc = roc_auc_score(y_test, prediction, multi_class=\"ovr\", average=\"macro\")\n",
    "    \n",
    "    acc.append(_acc)\n",
    "    f1.append(_f1)\n",
    "    precision.append(_precision)\n",
    "    recall.append(_recall)\n",
    "    #auc_score.append(_auc)\n",
    "\n",
    "print(\"Average accuracy on test set: \", np.mean(acc))\n",
    "print(\"Average F1-Score on test set: \", np.mean(f1))\n",
    "print(\"Average precision on test set: \", np.mean(precision))\n",
    "print(\"Average recall on test set: \", np.mean(recall))\n",
    "#print(\"Average auc on test set: \", np.mean(auc_score))"
   ]
  },
  {
   "cell_type": "code",
   "execution_count": 7,
   "metadata": {},
   "outputs": [
    {
     "name": "stdout",
     "output_type": "stream",
     "text": [
      "Fitting 4 folds for each of 15 candidates, totalling 60 fits\n"
     ]
    },
    {
     "name": "stderr",
     "output_type": "stream",
     "text": [
      "[Parallel(n_jobs=-1)]: Using backend LokyBackend with 4 concurrent workers.\n",
      "[Parallel(n_jobs=-1)]: Done  53 out of  60 | elapsed:    0.6s remaining:    0.1s\n",
      "[Parallel(n_jobs=-1)]: Done  60 out of  60 | elapsed:    0.7s finished\n",
      "[Parallel(n_jobs=-1)]: Using backend LokyBackend with 4 concurrent workers.\n"
     ]
    },
    {
     "name": "stdout",
     "output_type": "stream",
     "text": [
      "Fitting 4 folds for each of 15 candidates, totalling 60 fits\n"
     ]
    },
    {
     "name": "stderr",
     "output_type": "stream",
     "text": [
      "[Parallel(n_jobs=-1)]: Done  53 out of  60 | elapsed:    0.7s remaining:    0.1s\n",
      "[Parallel(n_jobs=-1)]: Done  60 out of  60 | elapsed:    0.7s finished\n",
      "[Parallel(n_jobs=-1)]: Using backend LokyBackend with 4 concurrent workers.\n"
     ]
    },
    {
     "name": "stdout",
     "output_type": "stream",
     "text": [
      "Fitting 4 folds for each of 15 candidates, totalling 60 fits\n"
     ]
    },
    {
     "name": "stderr",
     "output_type": "stream",
     "text": [
      "[Parallel(n_jobs=-1)]: Done  53 out of  60 | elapsed:    0.7s remaining:    0.1s\n",
      "[Parallel(n_jobs=-1)]: Done  60 out of  60 | elapsed:    0.7s finished\n",
      "[Parallel(n_jobs=-1)]: Using backend LokyBackend with 4 concurrent workers.\n"
     ]
    },
    {
     "name": "stdout",
     "output_type": "stream",
     "text": [
      "Fitting 4 folds for each of 15 candidates, totalling 60 fits\n"
     ]
    },
    {
     "name": "stderr",
     "output_type": "stream",
     "text": [
      "[Parallel(n_jobs=-1)]: Done  53 out of  60 | elapsed:    0.9s remaining:    0.1s\n",
      "[Parallel(n_jobs=-1)]: Done  60 out of  60 | elapsed:    0.9s finished\n",
      "[Parallel(n_jobs=-1)]: Using backend LokyBackend with 4 concurrent workers.\n"
     ]
    },
    {
     "name": "stdout",
     "output_type": "stream",
     "text": [
      "Fitting 4 folds for each of 15 candidates, totalling 60 fits\n",
      "Average accuracy on test set:  0.842295358649789\n",
      "Average F1-Score on test set:  0.8261132154525281\n",
      "Average precision on test set:  0.8550501443001443\n",
      "Average recall on test set:  0.8329662004662005\n"
     ]
    },
    {
     "name": "stderr",
     "output_type": "stream",
     "text": [
      "[Parallel(n_jobs=-1)]: Done  53 out of  60 | elapsed:    1.1s remaining:    0.2s\n",
      "[Parallel(n_jobs=-1)]: Done  60 out of  60 | elapsed:    1.2s finished\n"
     ]
    }
   ],
   "source": [
    "# Support Vector Machine\n",
    "# configure the cross-validation procedure\n",
    "inner_cv = GroupKFold(n_splits=inner_fold)\n",
    "outer_cv = GroupKFold(n_splits=outer_fold)\n",
    "\n",
    "# define the model\n",
    "model = Pipeline([('normalizer', StandardScaler()),  # normalize data\n",
    "                  ('clf', SVC(random_state=1))  # fit Logistic regression model\n",
    "])\n",
    "\n",
    "\n",
    "params = {\n",
    "    'clf__kernel' : ['poly', 'rbf', 'sigmoid'],\n",
    "    'clf__gamma' : [\"scale\"],\n",
    "    'clf__C' : [50, 10, 1.0, 0.1, 0.01]\n",
    "}\n",
    "\n",
    "acc = []\n",
    "f1 = []\n",
    "precision = []\n",
    "recall = []\n",
    "auc_score = []\n",
    "\n",
    "\n",
    "for train_index, test_index in outer_cv.split(X, y, groups=groups):\n",
    "    x_train, x_test = X.iloc[train_index], X.iloc[test_index]\n",
    "    y_train, y_test = y[train_index], y[test_index]\n",
    "\n",
    "    grid = GridSearchCV(estimator=model,\n",
    "                        param_grid=params,\n",
    "                        cv=inner_cv,\n",
    "                        scoring=\"accuracy\",\n",
    "                        refit=True,\n",
    "                        verbose=1,\n",
    "                        n_jobs=-1)\n",
    "    \n",
    "    grid.fit(x_train, y_train, groups=groups[train_index])\n",
    "    prediction = grid.predict(x_test)\n",
    "    \n",
    "    _acc = accuracy_score(y_test, prediction)\n",
    "    _f1 = f1_score(y_test, prediction, average=\"macro\")\n",
    "    _precision = precision_score(y_test, prediction, average=\"macro\")\n",
    "    _recall = recall_score(y_test, prediction, average=\"macro\")\n",
    "    #_auc = roc_auc_score(y_test, prediction, multi_class=\"ovr\", average=\"macro\")\n",
    "    \n",
    "    acc.append(_acc)\n",
    "    f1.append(_f1)\n",
    "    precision.append(_precision)\n",
    "    recall.append(_recall)\n",
    "    #auc_score.append(_auc)\n",
    "\n",
    "print(\"Average accuracy on test set: \", np.mean(acc))\n",
    "print(\"Average F1-Score on test set: \", np.mean(f1))\n",
    "print(\"Average precision on test set: \", np.mean(precision))\n",
    "print(\"Average recall on test set: \", np.mean(recall))\n",
    "#print(\"Average auc on test set: \", np.mean(auc_score))"
   ]
  },
  {
   "cell_type": "code",
   "execution_count": 9,
   "metadata": {},
   "outputs": [
    {
     "name": "stdout",
     "output_type": "stream",
     "text": [
      "Fitting 4 folds for each of 24 candidates, totalling 96 fits\n"
     ]
    },
    {
     "name": "stderr",
     "output_type": "stream",
     "text": [
      "[Parallel(n_jobs=-1)]: Using backend LokyBackend with 4 concurrent workers.\n",
      "[Parallel(n_jobs=-1)]: Done  96 out of  96 | elapsed:    0.5s finished\n",
      "[Parallel(n_jobs=-1)]: Using backend LokyBackend with 4 concurrent workers.\n"
     ]
    },
    {
     "name": "stdout",
     "output_type": "stream",
     "text": [
      "Fitting 4 folds for each of 24 candidates, totalling 96 fits\n"
     ]
    },
    {
     "name": "stderr",
     "output_type": "stream",
     "text": [
      "[Parallel(n_jobs=-1)]: Done  96 out of  96 | elapsed:    0.7s finished\n",
      "[Parallel(n_jobs=-1)]: Using backend LokyBackend with 4 concurrent workers.\n"
     ]
    },
    {
     "name": "stdout",
     "output_type": "stream",
     "text": [
      "Fitting 4 folds for each of 24 candidates, totalling 96 fits\n"
     ]
    },
    {
     "name": "stderr",
     "output_type": "stream",
     "text": [
      "[Parallel(n_jobs=-1)]: Done  96 out of  96 | elapsed:    0.6s finished\n",
      "[Parallel(n_jobs=-1)]: Using backend LokyBackend with 4 concurrent workers.\n"
     ]
    },
    {
     "name": "stdout",
     "output_type": "stream",
     "text": [
      "Fitting 4 folds for each of 24 candidates, totalling 96 fits\n"
     ]
    },
    {
     "name": "stderr",
     "output_type": "stream",
     "text": [
      "[Parallel(n_jobs=-1)]: Done  96 out of  96 | elapsed:    0.7s finished\n",
      "[Parallel(n_jobs=-1)]: Using backend LokyBackend with 4 concurrent workers.\n"
     ]
    },
    {
     "name": "stdout",
     "output_type": "stream",
     "text": [
      "Fitting 4 folds for each of 24 candidates, totalling 96 fits\n",
      "Average accuracy on test set:  0.7409742999616419\n",
      "Average F1-Score on test set:  0.7223441249719699\n",
      "Average precision on test set:  0.7537542634133542\n",
      "Average recall on test set:  0.7323269911906276\n"
     ]
    },
    {
     "name": "stderr",
     "output_type": "stream",
     "text": [
      "[Parallel(n_jobs=-1)]: Done  89 out of  96 | elapsed:    0.7s remaining:    0.1s\n",
      "[Parallel(n_jobs=-1)]: Done  96 out of  96 | elapsed:    0.7s finished\n",
      "/Users/bai_chen/opt/anaconda3/lib/python3.7/site-packages/sklearn/metrics/_classification.py:1272: UndefinedMetricWarning: Precision is ill-defined and being set to 0.0 in labels with no predicted samples. Use `zero_division` parameter to control this behavior.\n",
      "  _warn_prf(average, modifier, msg_start, len(result))\n"
     ]
    }
   ],
   "source": [
    "# Decision Tree\n",
    "# configure the cross-validation procedure\n",
    "inner_cv = GroupKFold(n_splits=inner_fold)\n",
    "outer_cv = GroupKFold(n_splits=outer_fold)\n",
    "\n",
    "# define the model\n",
    "model = DecisionTreeClassifier(random_state=1)\n",
    "\n",
    "params = {\n",
    "    'criterion' : ['gini', 'entropy'],\n",
    "    'max_depth' : [2,4,6,8,10,12],\n",
    "    'min_samples_leaf' : [6, 8]\n",
    "}\n",
    "\n",
    "for train_index, test_index in outer_cv.split(X, y, groups=groups):\n",
    "    x_train, x_test = X.iloc[train_index], X.iloc[test_index]\n",
    "    y_train, y_test = y[train_index], y[test_index]\n",
    "\n",
    "    grid = GridSearchCV(estimator=model,\n",
    "                        param_grid=params,\n",
    "                        cv=inner_cv,\n",
    "                        scoring=\"accuracy\",\n",
    "                        refit=True,\n",
    "                        verbose=1,\n",
    "                        n_jobs=-1)\n",
    "    \n",
    "    grid.fit(x_train, y_train, groups=groups[train_index])\n",
    "    prediction = grid.predict(x_test)\n",
    "    \n",
    "    _acc = accuracy_score(y_test, prediction)\n",
    "    _f1 = f1_score(y_test, prediction, average=\"macro\")\n",
    "    _precision = precision_score(y_test, prediction, average=\"macro\")\n",
    "    _recall = recall_score(y_test, prediction, average=\"macro\")\n",
    "    #_auc = roc_auc_score(y_test, prediction, multi_class=\"ovr\", average=\"macro\")\n",
    "    \n",
    "    acc.append(_acc)\n",
    "    f1.append(_f1)\n",
    "    precision.append(_precision)\n",
    "    recall.append(_recall)\n",
    "    #auc_score.append(_auc)\n",
    "\n",
    "print(\"Average accuracy on test set: \", np.mean(acc))\n",
    "print(\"Average F1-Score on test set: \", np.mean(f1))\n",
    "print(\"Average precision on test set: \", np.mean(precision))\n",
    "print(\"Average recall on test set: \", np.mean(recall))\n",
    "#print(\"Average auc on test set: \", np.mean(auc_score))"
   ]
  },
  {
   "cell_type": "code",
   "execution_count": null,
   "metadata": {},
   "outputs": [],
   "source": []
  }
 ],
 "metadata": {
  "kernelspec": {
   "display_name": "Python 3",
   "language": "python",
   "name": "python3"
  },
  "language_info": {
   "codemirror_mode": {
    "name": "ipython",
    "version": 3
   },
   "file_extension": ".py",
   "mimetype": "text/x-python",
   "name": "python",
   "nbconvert_exporter": "python",
   "pygments_lexer": "ipython3",
   "version": "3.7.7"
  }
 },
 "nbformat": 4,
 "nbformat_minor": 4
}
